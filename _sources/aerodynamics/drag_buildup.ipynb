{
 "cells": [
  {
   "cell_type": "markdown",
   "id": "86f8ef06",
   "metadata": {},
   "source": [
    "# Parasitic (Zero-lift) drag\n",
    "\n",
    "This section describes how to compute parasitic drag (zero-lift) using drag buildup method and demonstrates the process for the example airplane. In drag buildup method, \n",
    "\n"
   ]
  }
 ],
 "metadata": {
  "kernelspec": {
   "display_name": "451",
   "language": "python",
   "name": "python3"
  },
  "language_info": {
   "name": "python",
   "version": "3.11.13"
  }
 },
 "nbformat": 4,
 "nbformat_minor": 5
}
