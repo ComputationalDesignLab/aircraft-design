{
 "cells": [
  {
   "cell_type": "markdown",
   "id": "d5a57747",
   "metadata": {},
   "source": [
    "# Tail Sizing\n",
    "\n",
    "This section describes tail sizing for the example airplane. In the early stages of design, the tail volume coefficient method is used for initial sizing of tail surfaces. The tail volume coefficient is defined as the tail effectiveness non-dimensionalized using the product of wing area and appropriate length scale. The effectiveness of a tail can be measured using the product of tail area and tail moment arm. The length scale is defined based on whether the coefficient is computed for horizontal or vertical tail. Refer to lecture notes, Raymer section 6.5, Roskam part 2 chapter 8, and Nicolai & Carichner chapter 11 for more details.\n",
    "\n",
    "## Horizontal tail\n",
    "\n",
    "The horizontal tail volume coefficient is defined as\n",
    "\n",
    "$$\n",
    "    V_h = \\frac{S_h L_h}{S \\bar{c}},\n",
    "$$\n",
    "\n",
    "where $S_h$ and $S$ are the horizontal tail surface and main wing areas, respectively, while $\\bar{c}$ refers to the mean aerodynamic chord of the wing. The $L_h$ is the horizontal tail moment arm, measured as the distance between the mean aerodynamic centers of the horizontal tail surface and the wing. The value of the coefficient and tail moment arm are estimated based on the historical data for a similar class of airplanes. For the example airplane, the $V_h$ and $L_h$ are set to 0.8 and 15 ft, respectively, based on Table 8.3(a) (Roskam Part 2).\n",
    "\n",
    "The planform values for the horizontal tail surface are estimated using the historical data presented in Table 8.13, Roskam Part 2. The aspect ratio is set to 5.5, while taper ratio is 0.75. The quarter chord sweep is set to $10^{\\circ}$ and the dihedral angle is set to $5^{\\circ}$, while the incidence angle is kept variable for trimming purposes. The NACA 0012 is used as the airfoil for the hortizontal tail surface.\n",
    "\n",
    "Below code block computes the value of horizontal tail surface planform variables based on the equations outlined in [wing planform section](wing_layout):"
   ]
  },
  {
   "cell_type": "code",
   "execution_count": 1,
   "id": "86b4760c",
   "metadata": {},
   "outputs": [
    {
     "name": "stdout",
     "output_type": "stream",
     "text": [
      "Area: 31 sq. ft\n",
      "Span: 13 ft\n",
      "Root chord: 2.7 ft\n",
      "Tip chord: 2.0 ft\n",
      "MAC: 2.4 ft\n",
      "y_mac: 3.1 ft\n"
     ]
    }
   ],
   "source": [
    "# wing variables\n",
    "S = 134 # sq ft\n",
    "wing_mac = 4.3 # ft\n",
    "\n",
    "# variables\n",
    "aspect_ratio_h = 5.5\n",
    "taper_ratio_h = 0.75\n",
    "sweep_qc_h = 10 # deg\n",
    "V_h = 0.8\n",
    "l_h = 15 # ft\n",
    "\n",
    "# area\n",
    "tail_area_h = V_h * S * wing_mac / l_h\n",
    "\n",
    "# span\n",
    "b_h = (aspect_ratio_h*tail_area_h)**0.5\n",
    "\n",
    "# root chord\n",
    "c_root_h = 2 * tail_area_h / b_h / (1 + taper_ratio_h) # ft\n",
    "\n",
    "# tip chord\n",
    "c_tip_h = taper_ratio_h * c_root_h # ft\n",
    "\n",
    "# MAC\n",
    "mac_h = 2 * c_root_h * (1 + taper_ratio_h + taper_ratio_h**2) / 3 / (1 + taper_ratio_h)\n",
    "\n",
    "# y_mac\n",
    "y_mac_h = b_h * (1 + 2*taper_ratio_h) / 6 / (1 + taper_ratio_h)\n",
    "\n",
    "# Print values\n",
    "print(f\"Area: {tail_area_h:.0f} sq. ft\")\n",
    "print(f\"Span: {b_h:.0f} ft\")\n",
    "print(f\"Root chord: {c_root_h:.1f} ft\")\n",
    "print(f\"Tip chord: {c_tip_h:.1f} ft\")\n",
    "print(f\"MAC: {mac_h:.1f} ft\")\n",
    "print(f\"y_mac: {y_mac_h:.1f} ft\")"
   ]
  },
  {
   "cell_type": "markdown",
   "id": "a2f0132c",
   "metadata": {},
   "source": [
    "## Vertical tail\n",
    "\n",
    "The vertical tail volume coefficient is defined as\n",
    "\n",
    "$$\n",
    "    V_v = \\frac{S_v L_v}{S b},\n",
    "$$\n",
    "\n",
    "where $S_v$ is the vertical tail surface area, while $b$ refers to the wing span. The $L_v$ is the vertical tail moment arm, measured as the distance between the mean aerodynamic centers of the vertical tail surface and the wing. The value of the coefficient and tail moment arm are estimated based on the historical data for a similar class of airplanes. For the example airplane, the $V_v$ and $L_v$ are set to 0.065 and 17 ft, respectively, based on Table 8.3(b) (Roskam Part 2). Next, the planform values for the vertical tail surface are estimated using the historical data presented in Table 8.13 (Roskam Part 2). The aspect ratio is set to 1.3, while taper ratio is 0.55. The quarter chord sweep is set to $30^{\\circ}$ and the NACA 0012 is used as the airfoil.\n",
    "\n",
    "Below code block computes the value of vertical tail surface planform variables:"
   ]
  },
  {
   "cell_type": "code",
   "execution_count": 2,
   "id": "4b341b0c",
   "metadata": {},
   "outputs": [
    {
     "name": "stdout",
     "output_type": "stream",
     "text": [
      "Area: 17 sq. ft\n",
      "Span: 5 ft\n",
      "Root chord: 4.7 ft\n",
      "Tip chord: 2.6 ft\n",
      "MAC: 3.7 ft\n",
      "y_mac: 2.1 ft\n"
     ]
    }
   ],
   "source": [
    "# wing variables\n",
    "S = 134 # sq ft\n",
    "b = 33 # ft\n",
    "\n",
    "# variables\n",
    "aspect_ratio_v = 1.3\n",
    "taper_ratio_v = 0.55\n",
    "sweep_qc_v = 30 # deg\n",
    "V_v = 0.065\n",
    "l_v = 17 # ft\n",
    "\n",
    "# area\n",
    "tail_area_v = V_v * S * b / l_v\n",
    "\n",
    "# span\n",
    "b_v = (aspect_ratio_v*tail_area_v)**0.5\n",
    "\n",
    "# root chord\n",
    "c_root_v = 2 * tail_area_v / b_v / (1 + taper_ratio_v) # ft\n",
    "\n",
    "# tip chord\n",
    "c_tip_v = taper_ratio_v * c_root_v # ft\n",
    "\n",
    "# MAC\n",
    "mac_v = 2 * c_root_v * (1 + taper_ratio_v + taper_ratio_v**2) / 3 / (1 + taper_ratio_v)\n",
    "\n",
    "# y_mac, multiplied by 2\n",
    "y_mac_v = 2 * b_v * (1 + 2*taper_ratio_v) / 6 / (1 + taper_ratio_v)\n",
    "\n",
    "# Print values\n",
    "print(f\"Area: {tail_area_v:.0f} sq. ft\")\n",
    "print(f\"Span: {b_v:.0f} ft\")\n",
    "print(f\"Root chord: {c_root_v:.1f} ft\")\n",
    "print(f\"Tip chord: {c_tip_v:.1f} ft\")\n",
    "print(f\"MAC: {mac_v:.1f} ft\")\n",
    "print(f\"y_mac: {y_mac_v:.1f} ft\")"
   ]
  },
  {
   "cell_type": "markdown",
   "id": "0253d82b",
   "metadata": {},
   "source": [
    "> __*NOTE*:__ The value of the spanwise location of mac obtained from the equation should be multiplied by 2 for a vertical tail surface\n",
    "\n",
    "## Summary\n",
    "\n",
    "\n",
    "Following table summarizes the tail surface sizing for the example airplane:\n",
    "\n",
    "<div style=\"width:70%; margin: auto;\">\n",
    "\n",
    "Parameter | Horizontal tail | Vertical tail | Source \n",
    "--- | :---: | :---: | :---:\n",
    "Tail volume coefficient | 0.8 | 0.065 | historical data\n",
    "Tail moment arm | 15 ft | 17 ft | historical data\n",
    "Surface area | 31 $\\text{ft}^2$ | 17 $\\text{ft}^2$ | calculated\n",
    "Span | 13 ft | 5 ft | calculated\n",
    "Root chord | 2.7 ft | 4.7 ft | calculated\n",
    "Tip chord | 2 ft | 2.6 ft | calculated \n",
    "Mean aerodynamic chord | 2.4 ft | 3.7 ft | calculated\n",
    "Spanwise location of mac | 3.1 ft | 2.1 ft | calculated\n",
    "Quarter chord sweep | $10^{\\circ}$ | $30^{\\circ}$ | historical data\n",
    "Incidence | variable | - | -\n",
    "Dihedral | $5^{\\circ}$ | - | historical data\n",
    "Airfoil | NACA 0012 | NACA 0012 | historical data\n",
    "</div>\n",
    "\n",
    "> __*NOTE*:__ Most of these values are based on historical estimates, and hence, should be further refined to meet the control and stability requirements of the airplane, if required."
   ]
  }
 ],
 "metadata": {
  "kernelspec": {
   "display_name": "451",
   "language": "python",
   "name": "python3"
  },
  "language_info": {
   "codemirror_mode": {
    "name": "ipython",
    "version": 3
   },
   "file_extension": ".py",
   "mimetype": "text/x-python",
   "name": "python",
   "nbconvert_exporter": "python",
   "pygments_lexer": "ipython3",
   "version": "3.11.13"
  }
 },
 "nbformat": 4,
 "nbformat_minor": 5
}
