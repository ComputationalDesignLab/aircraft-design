{
 "cells": [
  {
   "cell_type": "markdown",
   "id": "81675526",
   "metadata": {},
   "source": [
    "# Constraint Analysis\n",
    "\n",
    "This section demonstrates how one can obtain an wing loading and power loading (or thrust loading in case of jet driven airplane)."
   ]
  }
 ],
 "metadata": {
  "language_info": {
   "name": "python"
  }
 },
 "nbformat": 4,
 "nbformat_minor": 5
}
