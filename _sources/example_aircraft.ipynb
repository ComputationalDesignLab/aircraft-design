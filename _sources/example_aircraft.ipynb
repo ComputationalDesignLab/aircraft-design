{
 "cells": [
  {
   "cell_type": "markdown",
   "id": "b6a92e1b",
   "metadata": {},
   "source": [
    "# Example Aircraft"
   ]
  }
 ],
 "metadata": {
  "language_info": {
   "name": "python"
  }
 },
 "nbformat": 4,
 "nbformat_minor": 5
}
