{
 "cells": [
  {
   "cell_type": "markdown",
   "id": "0653b546",
   "metadata": {},
   "source": [
    "# Landing Distance\n",
    "\n",
    "\n",
    "\n",
    "<div style=\"width:80%; margin: auto;\">\n",
    "\n",
    "![logos](../images/far23_takeoff.png)\n",
    "</div>\n",
    "\n"
   ]
  }
 ],
 "metadata": {
  "language_info": {
   "name": "python"
  }
 },
 "nbformat": 4,
 "nbformat_minor": 5
}
