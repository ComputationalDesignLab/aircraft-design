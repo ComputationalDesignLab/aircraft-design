{
 "cells": [
  {
   "cell_type": "markdown",
   "id": "04873ec3",
   "metadata": {},
   "source": [
    "# Initial design summary\n",
    "\n",
    "Based on the results from initial weight estimation and constraint analysis, following table outlines some of the major important quantities for the example airplane:\n",
    "\n",
    "<div style=\"width:90%; margin: auto;\">\n",
    "\n",
    "Parameter | Value | Source\n",
    "--------- | :---: | :---:\n",
    "Aspect ratio | 8 | Initial weight estimation (assumed)\n",
    "Maximum takeoff weight | 5354 lbs | Initial weight estimation\n",
    "Empty weight | 3094 lbs | Initial weight estimation\n",
    "Fuel weight | 1060 lbs | Initial weight estimation\n",
    "Takeoff Wing loading | 40 lbs/$\\text{ft}^2$ | Constraint analysis\n",
    "Takeoff Power loading | 9.25 lbs/hp | Constraint analysis\n",
    "Wing surface area | 134 $\\text{ft}^2$ | Calculated from W/S\n",
    "Takeoff power | 595 hp | Calculated from W/P\n",
    "Span | 33 ft | Calculated from $S$ and $A$\n",
    "Maximum lift coeff. with no flaps, $C_{L_{max}}$ | 1.5 | Constraint analysis (assumed)\n",
    "Maximum lift coeff. with takeoff flaps, $C_{L_{max_{TO}}}$ | 1.8 | Constraint analysis (assumed)\n",
    "Maximum lift coeff. with landing flaps, $C_{L_{max_{L}}}$ | 2.2 | Constraint analysis (assumed)\n",
    "\n",
    "</div>\n",
    "\n",
    "> **_NOTE_**: The above estimates are based on initial sizing process. These estimates can be further improved using carpet plots or by running numerical optimization."
   ]
  }
 ],
 "metadata": {
  "kernelspec": {
   "display_name": "451",
   "language": "python",
   "name": "python3"
  },
  "language_info": {
   "name": "python",
   "version": "3.11.13"
  }
 },
 "nbformat": 4,
 "nbformat_minor": 5
}
