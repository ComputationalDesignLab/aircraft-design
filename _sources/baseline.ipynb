{
 "cells": [
  {
   "cell_type": "markdown",
   "id": "04873ec3",
   "metadata": {},
   "source": [
    "# Baseline design\n",
    "\n",
    "Based on the results from initial weight estimation and constraint analysis, following table outlines value of various parameters for the initial of the example airplane."
   ]
  }
 ],
 "metadata": {
  "language_info": {
   "name": "python"
  }
 },
 "nbformat": 4,
 "nbformat_minor": 5
}
