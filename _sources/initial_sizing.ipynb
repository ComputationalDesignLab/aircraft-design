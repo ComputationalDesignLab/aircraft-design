{
 "cells": [
  {
   "cell_type": "markdown",
   "id": "1463b97f",
   "metadata": {},
   "source": [
    "# Initial Sizing\n",
    "\n",
    "This \n"
   ]
  }
 ],
 "metadata": {
  "kernelspec": {
   "display_name": "451",
   "language": "python",
   "name": "python3"
  },
  "language_info": {
   "name": "python",
   "version": "3.11.13"
  }
 },
 "nbformat": 4,
 "nbformat_minor": 5
}
