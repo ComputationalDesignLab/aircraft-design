{
 "cells": [
  {
   "cell_type": "markdown",
   "id": "1463b97f",
   "metadata": {},
   "source": [
    "# Initial Sizing\n",
    "\n",
    "This section performs initial weight estimation for the example aircraft. The maximum takeoff weight ($W_{\\text{MTO}}$) can be divied into\n",
    "three components for this initial estimation: payload ($W_{p}$), empty weight ($W_e$), and fuel weight ($W_f$). Mathematically, \n",
    "it can be written as\n",
    "\n",
    "$$\n",
    "    W_{\\text{MTO}} = W_p + W_e + W_f.\n",
    "$$\n",
    "\n",
    "Note that $W_p$ includes crew weight, along with passenger and baggage weight. Following subsections demonstrates methods for \n",
    "computing $W_e$, $W_f$ and MTOW.\n",
    "\n",
    "## Empty Weight Fraction\n",
    "\n",
    "During the intial phase of design, the empty weight is usually computed based on the historical data for similar type of aircraft.\n",
    "Most aircraft design books will provide some sort of empirical formula to compute $W_e$ or empty weight fraction ($W_e/W_f$). In this\n",
    "demonstration, empty weight trends provided in Nicolai and Carichner's book are used. The empty weight fraction is computed using\n",
    "\n",
    "$$\n",
    "    W_e/W_{\\text{MTO}} = 0.911 \\times W_{\\text{MTO}} ^ {0.947}.\n",
    "$$\n",
    "\n",
    "> **_NOTE:_** In the above formula, MTOW should be in pounds (lbs)\n",
    "\n",
    "Following code defines a simple python function for computing $W_e/W_f$ which is later used for computing MTOW."
   ]
  },
  {
   "cell_type": "code",
   "execution_count": null,
   "id": "fd7dd90a",
   "metadata": {},
   "outputs": [],
   "source": [
    "def compute_empty_weight_fraction(MTOW):\n",
    "    \n",
    "    # empty weight fraction (from Nicolai and Carichner, Pg. 763)\n",
    "    We_by_MTOW = 0.911 * MTOW ** 0.947\n",
    "    \n",
    "    return We_by_MTOW"
   ]
  },
  {
   "cell_type": "markdown",
   "id": "5bdfae2f",
   "metadata": {},
   "source": [
    "## Fuel Fraction\n",
    "\n",
    "The fuel fraction is computed using mission segment weight fraction method. In this method, \n",
    "\n",
    "Breguet Range equation for a propeller aircraft (piston/turboprop) is given by\n",
    "\n",
    "$$\n",
    "    R = \\frac{\\eta_{cr}}{C} \\Big(\\frac{L}{D}\\Big)_{cr} \\ln\\Bigg(\\frac{W_{i-1}}{W_i}\\Bigg)\n",
    "$$\n",
    "\n",
    "$$\n",
    "    \\frac{W_i}{W_{i-1}} = \\exp\\Bigg( \\frac{-RC}{V(L/D)} \\Bigg)\n",
    "$$\n",
    "\n",
    "$$\n",
    "    T = \\frac{\\eta}{C}(L/D)_{loiter}\\frac{1}{V}\\ln\\Bigg( \\frac{W_{i-1}}{W_i} \\Bigg)\n",
    "$$\n",
    "\n",
    "For a propeller powered airplane\n",
    "\n",
    "most efficient cruise velocity occurs at approx $(L/D)_{max}$\n",
    "\n",
    "most efficient loiter velocity occurs at approx $0.866 \\times (L/D)_{max}$\n",
    "\n",
    "Propeller aircraft loiter equation is given by (eq 5.7, pg. 131 Nicolai)\n",
    "\n",
    "Next step is to estimate maximum L/D\n",
    "\n",
    "$$\n",
    "    (L/D)_{max} = \n",
    "$$\n",
    "\n",
    "Next step is to estimate zero-lift drag ($C_{D_0}$)\n"
   ]
  },
  {
   "cell_type": "code",
   "execution_count": null,
   "id": "7f414677",
   "metadata": {},
   "outputs": [],
   "source": [
    "def compute_CD0(MTOW):\n",
    "\n",
    "    pass\n",
    "\n",
    "def compute_fuel_fraction(MTOW):\n",
    "\n",
    "    # variables\n",
    "    range = 1200 # nmi\n",
    "    V_cruise = 250 # KTAS\n",
    "\n",
    "\n",
    "    # Table 2.1 Roskam Part 1 (Pg. 12)\n",
    "\n",
    "    W1_by_MTOW = 0.984 # warmup, taxi, takeoff\n",
    "\n",
    "    W2_by_W1 = 0.99 # climb\n",
    "\n",
    "    W3_by_W2 = # cruise\n",
    "\n",
    "    W4_by_W3 = 0.992 # descent\n",
    "\n",
    "    W5_by_W4 = 0.99 # climb\n",
    "\n",
    "    W6_by_W5 =  # loiter\n",
    "\n",
    "    W7_by_W6 = 0.992 # descent\n",
    "\n",
    "    W8_by_W7 = 0.992 # land, taxi, shutdown\n",
    "\n",
    "    W8_by_MTOW = W1_by_MTOW * W2_by_W1 * W3_by_W2 * W4_by_W3 \\\n",
    "                * W5_by_W4 * W6_by_W5 * W7_by_W6 * W8_by_W7\n",
    "\n",
    "    Wf_by_MTOW = 1.06 * (1 - W8_by_MTOW) # 6% is for trapped unusable fuel\n",
    "\n",
    "    return Wf_by_MTOW"
   ]
  },
  {
   "cell_type": "markdown",
   "id": "d3010c42",
   "metadata": {},
   "source": [
    "## MTOW Estimation\n",
    "\n",
    "$$\n",
    "    W_{\\text{MTO}} = \\frac{W_p}{1 - \\dfrac{W_e}{W_{\\text{MTO}}} - \\dfrac{W_f}{W_{\\text{MTO}}}}\n",
    "$$"
   ]
  },
  {
   "cell_type": "code",
   "execution_count": null,
   "id": "953bfd94",
   "metadata": {},
   "outputs": [],
   "source": []
  }
 ],
 "metadata": {
  "kernelspec": {
   "display_name": "451",
   "language": "python",
   "name": "python3"
  },
  "language_info": {
   "codemirror_mode": {
    "name": "ipython",
    "version": 3
   },
   "file_extension": ".py",
   "mimetype": "text/x-python",
   "name": "python",
   "nbconvert_exporter": "python",
   "pygments_lexer": "ipython3",
   "version": "3.11.13"
  }
 },
 "nbformat": 4,
 "nbformat_minor": 5
}
