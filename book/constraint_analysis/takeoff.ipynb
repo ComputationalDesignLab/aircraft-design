{
 "cells": [
  {
   "cell_type": "markdown",
   "id": "87e15a67",
   "metadata": {},
   "source": [
    "# Takeoff Distance\n",
    "\n",
    "According to [mission specifications](example_aircraft.md), the example aircraft needs to takeoff within 1500 ft of ground roll. Additionally, it should also be able to climb to a distance of 50' above takeoff surface according to CFR [Part 23.2115](https://www.ecfr.gov/current/title-14/chapter-I/subchapter-C/part-23/subpart-B/subject-group-ECFR0f27e01839859ea/section-23.2115). Schematically, it can be represented as:\n",
    "\n",
    "\n",
    "\n",
    "The Section 3.1 of Roskam Part 1 is used to identify the feasible region according to takeoff requirement for the example aircraft.\n",
    "\n",
    "Typically, the takeoff distance is dependent on takeoff parameter (TOP) \n",
    "\n",
    "$$\n",
    "    \\frac{ \\bigg( \\dfrac{W}{S} \\bigg)_{TO} \\bigg( \\dfrac{W}{P} \\bigg)_{TO} }{ \\sigma C_{L_{max_{TO}}} } \\leq TOP_{23},\n",
    "$$\n",
    "\n",
    "where $TOP_{23}$ is the takeoff parameter which can be obtained by solving\n",
    "\n",
    "$$\n",
    "    S_{TGR} = 4.9 \\text{ } \\text{TOP}_{23} + 0.0149 \\text{ } \\text{TOP}_{23}^2.\n",
    "$$\n",
    "\n",
    "This equation relates takeoff ground roll ($S_{TGR}$) to $TOP_{23}$ parameter. Note that $S_{TGR}$ should be in feet in the above equation.\n",
    "\n",
    "Below code plots the takeoff distance requirement and highlights the feasible region:"
   ]
  }
 ],
 "metadata": {
  "language_info": {
   "name": "python"
  }
 },
 "nbformat": 4,
 "nbformat_minor": 5
}
