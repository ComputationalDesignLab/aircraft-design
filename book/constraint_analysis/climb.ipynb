{
 "cells": [
  {
   "cell_type": "markdown",
   "id": "d4a43b19",
   "metadata": {},
   "source": [
    "# Climb Gradient\n",
    "\n",
    "For FAR 23 airplanes, it is required to satisfy certain climb gradient requirement as outlined in CFR [Part 23.2120](https://www.ecfr.gov/current/title-14/chapter-I/subchapter-C/part-23/subpart-B/subject-group-ECFR0f27e01839859ea/section-23.2120). The example airplane consists of twin engine and needs to be certified for level 2 and low speed performance. This leads to three climb gradient requirements under different scenarios:\n",
    "\n",
    "1. All engines operating (AEO): minimum climb gradient of 8.3% in initial climb configuration i.e. landing gear retracted, flaps in takeoff settings, and both engines at maximum power\n",
    "2. One engine inoperative (OEI): minimum climb gradient of 1.5% at 5000 ft in cruise configuration i.e. landing gear and flaps retracted, and remaining engine at max power setting\n",
    "3. Blaked Landing (BL): minimum climb gradient of 3% in landing configuration i.e. landing gear extended, flaps in landing settings, and both engines at maximum power.\n",
    "\n",
    "The methods outlined in Section 3.3 in Roskam Part 1 is used to identify feasbile values of $W/S$ and $W/P$. The climb gradient (CGR) requirement can be linked to climb gradient parameter (CGRP) using\n",
    "\n",
    "$$\n",
    "    \\text{CGRP} = \\frac{\\text{CGR} + (L/D)^{-1}}{\\sqrt{C_L}},\n",
    "$$\n",
    "\n",
    "where CGRP is defined as\n",
    "\n",
    "$$\n",
    "    CGRP = \\frac{18.97 \\eta_p \\sqrt{\\sigma} }{ W/P \\sqrt{W/S} }\n",
    "$$\n",
    "\n",
    "> **_NOTE_:** In the above equations, for a given climb gradient requirement, the value of the quantities should be at the respective configuration. For example, the value of L/D, $C_L$, $W/P$ and $W/S$ should be in landing configuration to satify blaked landing requirement.\n",
    "\n",
    "\n",
    "\n",
    "Below code plots all the three climb gradient requirement for the example aircraft and highlights the feasible region."
   ]
  },
  {
   "cell_type": "code",
   "execution_count": null,
   "id": "82e2f6c5",
   "metadata": {},
   "outputs": [],
   "source": [
    "import numpy as np\n",
    "import matplotlib.pyplot as plt"
   ]
  },
  {
   "cell_type": "markdown",
   "id": "5280db40",
   "metadata": {},
   "source": [
    "## AEO requirement"
   ]
  },
  {
   "cell_type": "code",
   "execution_count": null,
   "id": "b9317139",
   "metadata": {},
   "outputs": [],
   "source": []
  }
 ],
 "metadata": {
  "kernelspec": {
   "display_name": "451",
   "language": "python",
   "name": "python3"
  },
  "language_info": {
   "name": "python",
   "version": "3.11.13"
  }
 },
 "nbformat": 4,
 "nbformat_minor": 5
}
