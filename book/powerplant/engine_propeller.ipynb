{
 "cells": [
  {
   "cell_type": "markdown",
   "id": "488c488f",
   "metadata": {},
   "source": [
    "# Engine and Propeller Selection\n",
    "\n",
    "This section talks about engine and propeller selection for the example airplane. Refer to lecture notes, Chapter 10 Raymer, and Chapter 5 Roskam Part 3 further details.\n",
    "\n",
    "## Engine Selection\n",
    "\n",
    "Based on the [specifications](example_aircraft.md) and flight regime, the example airplane will employ twin piston engines with appropriate propellers, and the propulsion system will be mounted on the wings. If the type of propulsion system is not explicitly stated, then refer to Fig. 10.2 in Raymer or Fig. 5.1 in Roskam Part 2 to determine the type of propulsion system. Once the propulsion system type is known, next step is to determine the engine based on the requried horsepower. Note the power requried for takeoff is already available from [constraint analysis](constraint_analysis/final.ipynb). The example airplane needs to have 595 hp which results in 298 hp per engine.\n",
    "\n",
    "Usually, there are two options: select an engine which is already available or a new engine will be developed/available soon (rubber engine). For the sake of demonstration, both approaches will be outlined here. If a production engine is going to be used, then it is highly recommended to do an engine market survey to determine available engines and their performance characterisitics. The [Lycoming](https://www.lycoming.com/) and [Continental](https://continental.aero/) are two major piston engine manufacturers for general aviation airplanes. Once the market survey is done, an engine can be determined based various factors such as fuel efficiency and power to weight ratio. For the example airplane, Continental IO-550-N is selected. It is a 6 cylinder, horizontal opposed, air-cooled, naturally aspirated, 4-stroke engine, also used in many other GA airplanes such as SR-22. Following table outlines some of its characteristics:\n",
    "\n",
    "<div style=\"width:60%; margin: auto;\">\n",
    "\n",
    "Parameter | Value\n",
    " ---- | :---:\n",
    "Rated power (sea-level, standard day) | 310 HP at 2700 RPM\n",
    "Dry weight (without any installations) | 491 lbs\n",
    "Fuel grade | Avgas 100/100LL\n",
    "\n",
    "</div>\n",
    "\n",
    "If a rubber engine is used, then appropriate scaling equations or statistical method are used to determine engine parameters. In this section, statiscal equations (based on the requird horsepower) are used from Table 10.4 in Raymer. Note that the rubber engine is assumed to be in a horizontal opposed configuration. Below code computes approximate weight and length of the engine for the rubber engine:"
   ]
  },
  {
   "cell_type": "code",
   "execution_count": 4,
   "id": "79304da5",
   "metadata": {},
   "outputs": [
    {
     "name": "stdout",
     "output_type": "stream",
     "text": [
      "Weight: 465.45319129700283 lbs\n",
      "Length: 3.5827596488384117 ft\n"
     ]
    }
   ],
   "source": [
    "p_req = 298 # hp\n",
    "weight = 5.47*(p_req)**0.78 # lbs\n",
    "length = 0.32*(p_req)**0.424 # ft\n",
    "\n",
    "print(f\"Weight: {weight} lbs\")\n",
    "print(f\"Length: {length} ft\")"
   ]
  },
  {
   "cell_type": "markdown",
   "id": "9d731cd4",
   "metadata": {},
   "source": [
    "Following table summarizes the rubber engine parameters:\n",
    "\n",
    "<div style=\"width:60%; margin: auto;\">\n",
    "\n",
    "Parameter | Value\n",
    " ---- | :---:\n",
    "Rated power (sea-level, standard day) | 298 HP at 2700 RPM\n",
    "Dry weight (without any installations) | 465 lbs\n",
    "length | 3.6 ft\n",
    "Width | 2.7 ft\n",
    "Height | 2 ft\n",
    "Fuel grade | Avgas 100/100LL\n",
    "</div>\n",
    "\n",
    "Note that the statistical equations (from Table 10.4) can also be used to approximate the width and length of already available engines also. This concludes engine selection, propeller sizing will be described next.\n",
    "\n",
    "## Propeller Sizing\n",
    "\n",
    "This section deals with the estimation of propeller diameter and the number of blades. The size of the propellers is usually limited by the propeller tip speed and the configuration arragement considerations. From Equation 5.1 in Roskam Part 2, the propeller diameter can be estimated as\n",
    "\n",
    "$$\n",
    "    D_p = \\sqrt{\\frac{5P_{max}}{\\pi n_b P_{bl}}},\n",
    "$$\n",
    "\n",
    "where $P_{max}$ is the maximum power, $n_b$ is the number of blades, and $P_{bl}$ is the blade power loading. The value of $P_{bl}$ is set to 3.8 hp/$\\text{ft}^2$ based on historical data in Table 5.4 (Roskam Part 2). Based on similar airplanes, the example airplane will have a metal propeller with three blades. Below block computes the propeller diameter using above equation:"
   ]
  },
  {
   "cell_type": "code",
   "execution_count": 12,
   "id": "74cf105b",
   "metadata": {},
   "outputs": [
    {
     "name": "stdout",
     "output_type": "stream",
     "text": [
      "Propeller diameter: 5.8 ft\n"
     ]
    }
   ],
   "source": [
    "nb = 3\n",
    "P_bl = 3.8 # lbs/sq ft\n",
    "P_max = 300 # hp\n",
    "\n",
    "Dp = (4*P_max/3.14/nb/P_bl)**0.5\n",
    "D = 1.6*(P_max)**0.25\n",
    "\n",
    "print(f\"Propeller diameter: {Dp:.1f} ft\")"
   ]
  },
  {
   "cell_type": "markdown",
   "id": "9c6b899f",
   "metadata": {},
   "source": [
    "If desired, one can look at already available propellers. [Hartzell](https://hartzellprop.com/) and [McCauley](https://mccauley.txtav.com/) are some of the well known propeller manufacturers for GA airplanes. For the example airplane, constant speed propeller is used so that the propeller pitch can be controlled as desired. Following table summarizes the propeller sizing:\n",
    "\n",
    "<div style=\"width:60%; margin: auto;\">\n",
    "\n",
    "Parameter | Value\n",
    " ---- | :---:\n",
    "Diameter | 5.8 ft\n",
    "Number of blades | 3 \n",
    "Material | Aluminium\n",
    "Pitch | Constant Speed\n",
    "</div>\n",
    "\n",
    "This sums up the propeller sizing. The thrust computation along with installation corrections will be described in next section."
   ]
  }
 ],
 "metadata": {
  "kernelspec": {
   "display_name": "451",
   "language": "python",
   "name": "python3"
  },
  "language_info": {
   "codemirror_mode": {
    "name": "ipython",
    "version": 3
   },
   "file_extension": ".py",
   "mimetype": "text/x-python",
   "name": "python",
   "nbconvert_exporter": "python",
   "pygments_lexer": "ipython3",
   "version": "3.11.13"
  }
 },
 "nbformat": 4,
 "nbformat_minor": 5
}
