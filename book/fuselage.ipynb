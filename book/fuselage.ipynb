{
 "cells": [
  {
   "cell_type": "markdown",
   "id": "dd2e0801",
   "metadata": {},
   "source": [
    "# Fuselage sizing\n",
    "\n",
    "This section talks about the initial sizing of fuselage and landing gear for the example airplane.\n",
    "\n",
    "## Fuselage \n",
    "\n",
    "lf_df = 7\n",
    "lfc_df = 3\n",
    "theta = 10 deg\n",
    "structural depth of 1.5 in \n",
    "cabin length\n",
    "height\n",
    "width\n",
    "\n",
    "Table 4.1\n",
    "\n",
    "Chapter 4 - Roskam 2\n",
    "\n",
    "Chapter 3 in Roskam Part 3\n",
    "\n",
    "Fig 3.1\n",
    "\n",
    "Fig 3.19\n",
    "\n",
    "Table 3.1\n",
    "\n",
    "Fig 3.51\n",
    "\n",
    "Section 3.5\n",
    "\n",
    "## Landing gear"
   ]
  }
 ],
 "metadata": {
  "kernelspec": {
   "display_name": "451",
   "language": "python",
   "name": "python3"
  },
  "language_info": {
   "name": "python",
   "version": "3.11.13"
  }
 },
 "nbformat": 4,
 "nbformat_minor": 5
}
