{
 "cells": [
  {
   "cell_type": "markdown",
   "id": "ca3161fa",
   "metadata": {},
   "source": [
    "# Weights\n",
    "\n",
    "This section computes weight for major aircraft structural components, along with various miscellaneous weights, for the example airplane. The statistical equations used below are referenced from different books (source is mentioned in each sub-section). For brevity, equations are not provided here. It is recommended to compare weights computed using statistical relations provided by different sources, and then select a sensible value. If possible, compare final weight values for each component with available data.\n",
    "\n",
    "Below code block imports pacakges and defines some quantities used in various equations. The dynamic pressure is computed at cruise conditions (used in various equations). The limit load will be described in detail for V-n diagrams but for now it is set to 3.5."
   ]
  },
  {
   "cell_type": "code",
   "execution_count": 50,
   "id": "c10c65fa",
   "metadata": {},
   "outputs": [],
   "source": [
    "import math\n",
    "\n",
    "# Dynamic pressure\n",
    "rho = 0.00186850 # slugs/cu ft, at 8000 ft\n",
    "V = 337.562 # ft/s, 200 knots\n",
    "q = 0.5*rho*V**2 # lbs/sq ft dynamic pressure at cruise\n",
    "\n",
    "Wdg = 5354 # lbs, MTOW\n",
    "Wfw = 1060 # lbs, fuel weight\n",
    "avgas_density = 6.41 # lbs/gallon at -40 C\n",
    "\n",
    "Nz = 1.5 * 3.5 # limit load factor is set to 3.5"
   ]
  },
  {
   "cell_type": "markdown",
   "id": "be2d2be6",
   "metadata": {},
   "source": [
    "## Wing\n",
    "\n",
    "The wing weight is computed using Raymer equation 15.46 which takes into account wing planform parameters and other variables. One can also compute wing weight using Roskam part 5 equation 5.2 or 5.4.\n",
    "\n",
    "Below code block computes wing weight:"
   ]
  },
  {
   "cell_type": "code",
   "execution_count": null,
   "id": "71fb759d",
   "metadata": {},
   "outputs": [
    {
     "name": "stdout",
     "output_type": "stream",
     "text": [
      "Weight of the wing: 344 lbs\n"
     ]
    }
   ],
   "source": [
    "Sw = 134 # sq ft\n",
    "A = 8\n",
    "taper_ratio = 0.4\n",
    "tc = 0.16 # average tc for the wing section between root and mac\n",
    "sweep = 0 # quarter chord sweep\n",
    "wing_span = 33 # ft\n",
    "\n",
    "Wwing = 0.036*Sw**0.758 * Wfw**0.0035 * (A/math.cos(sweep)**2)**0.6 * q**0.006 * taper_ratio**0.04 \\\n",
    "        * (100*tc/math.cos(sweep))**-0.3 * (Nz*Wdg)**0.49\n",
    "\n",
    "print(f\"Weight of the wing: {Wwing:.0f} lbs\")\n",
    "\n",
    "# print( 0.04674 * Wdg**0.397 * Sw**0.36 * Nz**0.397 * A**1.712 )"
   ]
  },
  {
   "cell_type": "markdown",
   "id": "cc83fedb",
   "metadata": {},
   "source": [
    "## Fuselage\n",
    "\n",
    "The fuselage weight is computed using Raymer equation 15.49 but one can also compute it using Roskam part equation 5.23 or 5.25.\n",
    "\n",
    "Below code block computes fuselage weight:"
   ]
  },
  {
   "cell_type": "code",
   "execution_count": 53,
   "id": "79acbe52",
   "metadata": {},
   "outputs": [
    {
     "name": "stdout",
     "output_type": "stream",
     "text": [
      "Weight of the fuselage: 367 lbs\n"
     ]
    }
   ],
   "source": [
    "Sf = 380.12 # sq ft, fuselage wetted from openvsp\n",
    "D = 1.5/12 # ft, structural depth\n",
    "L = 27 # ft, structural length without nose and tail cap\n",
    "Lt = 16 # ft, tail moment arm\n",
    "\n",
    "Wfuselage = 0.052 * Sf**1.086 * (Nz*Wdg)**0.177 * Lt**(-0.051) * (L/D)**(-0.072) * q**0.241\n",
    "\n",
    "print(f\"Weight of the fuselage: {Wfuselage:.0f} lbs\")\n",
    "\n",
    "# print( 0.04628 * Wdg**0.692 * 17**0.374 * L**0.59 )"
   ]
  },
  {
   "cell_type": "markdown",
   "id": "f8316ee0",
   "metadata": {},
   "source": [
    "## Tail\n",
    "\n",
    "The horizontal and vertical tail weights are computed using Raymer equation 15.47 and 15.48. One can also use Roskam Part 5 Section 5.2 for computing empennage weights.\n",
    "\n",
    "Below code block computes weight of the horizontal tail:"
   ]
  },
  {
   "cell_type": "code",
   "execution_count": 54,
   "id": "9f7975a8",
   "metadata": {},
   "outputs": [
    {
     "name": "stdout",
     "output_type": "stream",
     "text": [
      "Weight of the HT: 42 lbs\n"
     ]
    }
   ],
   "source": [
    "Sht = 31 # sq ft\n",
    "sweep_ht = 10 # deg\n",
    "taper_ratio_ht = 0.741\n",
    "\n",
    "Wht = 0.016 * (Nz*Wdg)**0.414 * q**0.168 * Sht**0.896 * (100*tc/math.cos(sweep*math.pi/180))**-0.12 \\\n",
    "        * (A/math.cos(sweep_ht*math.pi/180)**2)**0.043 * taper_ratio_ht**-0.02\n",
    "\n",
    "print(f\"Weight of the HT: {Wht:.0f} lbs\")\n",
    "\n",
    "# print( 127 * ( (Wdg*Nz/1e5)**0.87 * (Sht/100)**1.2 * (Lt)**0.483 * (13/0.12/2.7/12)**0.5 )**0.458 )\n",
    "\n",
    "# Ah = 13**2 / 31\n",
    "\n",
    "# print( 3.184 * Wdg**0.887 * Sht**0.101 * Ah**0.138 / 174.04 / 0.12**0.223 )"
   ]
  },
  {
   "cell_type": "markdown",
   "id": "56505ab0",
   "metadata": {},
   "source": [
    "Below code block computes weight of the vertical tail:"
   ]
  },
  {
   "cell_type": "code",
   "execution_count": 60,
   "id": "adf1f5ce",
   "metadata": {},
   "outputs": [
    {
     "name": "stdout",
     "output_type": "stream",
     "text": [
      "Weight of the VT: 39 lbs\n"
     ]
    }
   ],
   "source": [
    "Svt = 17 # sq ft\n",
    "taper_ratio_vt = 0.55\n",
    "sweep_vt = 30 # deg\n",
    "tail_factor = 0 # 0.0 for conv tail\n",
    "\n",
    "Wvt = 0.073 * (1+0.2*tail_factor) * (Nz*Wdg)**0.376 * q**0.122 * Svt**0.873 \\\n",
    "        * (100*tc/math.cos(sweep_vt*math.pi/180))**-0.49 * (A/math.cos(sweep_vt*math.pi/180)**2)**0.357 \\\n",
    "        * taper_ratio_vt**0.039\n",
    "\n",
    "print(f\"Weight of the VT: {Wvt:.0f} lbs\")"
   ]
  },
  {
   "cell_type": "markdown",
   "id": "73a15b93",
   "metadata": {},
   "source": [
    "## Landing Gear\n",
    "\n",
    "The landing gear (LG) weight is computed using equation 5.4 in Roskam Part 5. The ultimate landing load factor is 1.5 times the gear load factor which is set to 3 using Table 11.5 in Raymer. The main LG extended length is estimate based on propeller diameter and required clearance. The propeller radius of 2.9 ft and 1.1 ft clerance leads to an approximate extended length of 4 ft. Note that for the example airplane, the LG is mounted close to engine mounts and retracted into wings. The value obtained is the total LG weight, including nose LG. Later, it is assumed that nose LG is 25% of the total LG weight."
   ]
  },
  {
   "cell_type": "code",
   "execution_count": 58,
   "id": "377a8ad2",
   "metadata": {},
   "outputs": [
    {
     "name": "stdout",
     "output_type": "stream",
     "text": [
      "Weight of the total LG: 104 lbs\n",
      "Weight of the Main LG: 78 lbs\n",
      "Weight of the Nose LG: 26 lbs\n"
     ]
    }
   ],
   "source": [
    "Ngear = 3 # from Table 11.5\n",
    "Nl = 1.5 * Ngear\n",
    "WL = 0.95*Wdg\n",
    "Lm = 4 # ft\n",
    "\n",
    "Wlg = 0.054 * Lm**0.501 * (WL*Nl)**0.684\n",
    "\n",
    "print(f\"Weight of the total LG: {Wlg:.0f} lbs\")\n",
    "print(f\"Weight of the Main LG: {0.75*Wlg:.0f} lbs\")\n",
    "print(f\"Weight of the Nose LG: {0.25*Wlg:.0f} lbs\")\n",
    "\n",
    "# print(Wlg)\n",
    "\n",
    "# print(f\"Weight of the Main LG: {Wmlg:.0f} lbs\")\n",
    "# print(f\"Weight of the Nose LG: {Wnlg:.0f} lbs\")\n",
    "\n",
    "# print(118/373)"
   ]
  },
  {
   "cell_type": "markdown",
   "id": "ed0cb94a",
   "metadata": {},
   "source": [
    "## Propulsion system\n",
    "\n",
    "The installed engine weight is computed using equation 15.52 in Raymer. As described in propulsion section, the Continental IO-550-N engine is going to be used for example airplane. The fuel systems weight is computed using equation 15.53.\n",
    "\n",
    "Below code block computes installed engine and fuel systems weight:"
   ]
  },
  {
   "cell_type": "code",
   "execution_count": 61,
   "id": "6860c84b",
   "metadata": {},
   "outputs": [
    {
     "name": "stdout",
     "output_type": "stream",
     "text": [
      "Weight of the installed engine: 1559 lbs\n",
      "Weight of the fuel systems: 104 lbs\n"
     ]
    }
   ],
   "source": [
    "Wen = 491 # lbs\n",
    "Nen = 2\n",
    "\n",
    "Winst_eng = 2.575 * Wen**0.922 * Nen\n",
    "\n",
    "print(f\"Weight of the installed engine: {Winst_eng:.0f} lbs\")\n",
    "\n",
    "Vt = Wfw / avgas_density\n",
    "Vi = Vt\n",
    "Nt = 2 # number of fuel tanks\n",
    "\n",
    "Wfuel_system = 2.49 * Vt**0.726 * (1 + Vi/Vt)**-0.363 * Nt**0.242 * Nen**0.157\n",
    "\n",
    "print(f\"Weight of the fuel systems: {Wfuel_system:.0f} lbs\")"
   ]
  },
  {
   "cell_type": "markdown",
   "id": "95ad1c25",
   "metadata": {},
   "source": [
    "## Miscellaneous\n",
    "\n",
    "There are many other fixed components whose weight needs to be estimated such as flight controls, hydraulics, avionics, etc. The equations are referenced from different books, refer comments in below code block for the source. Note that the weights for anti-icing, pressurization, and air conditioning are not included."
   ]
  },
  {
   "cell_type": "code",
   "execution_count": 65,
   "id": "268ec055",
   "metadata": {},
   "outputs": [
    {
     "name": "stdout",
     "output_type": "stream",
     "text": [
      "Weight of the flight controls: 90 lbs\n",
      "Weight of the hydraulics: 26 lbs\n",
      "Weight of the avionics: 83 lbs\n",
      "Weight of the electrical: 143 lbs\n",
      "Weight of the furshings: 213 lbs\n",
      "Total miscellaneous weights: 556 lbs\n"
     ]
    }
   ],
   "source": [
    "# flight controls\n",
    "Wflight_controls = 0.0168 * Wdg # Roskam Part 5, equation 7.2\n",
    "\n",
    "# hydraulics\n",
    "M = 0.3 # cruise mach number\n",
    "Kh = 0.05 # low subsonic with hydraulics for brakes and retracts only\n",
    "Whydraulics = Kh * Wdg**0.8 * M**0.5 # Raymer, equation 15.55\n",
    "\n",
    "# avionics\n",
    "Wavionics = 40 + 0.008 * Wdg # Roskam Part 5, 7.23\n",
    "\n",
    "# electrical\n",
    "Welectrical = 0.0268 * Wdg # Roskam Part 5, 7.13\n",
    "\n",
    "# furshings\n",
    "Wfurshings = 0.412 * 6**1.145 * Wdg**0.489 # Roskam Part 5, 7.41\n",
    "\n",
    "print(f\"Weight of the flight controls: {Wflight_controls:.0f} lbs\")\n",
    "print(f\"Weight of the hydraulics: {Whydraulics:.0f} lbs\")\n",
    "print(f\"Weight of the avionics: {Wavionics:.0f} lbs\")\n",
    "print(f\"Weight of the electrical: {Welectrical:.0f} lbs\")\n",
    "print(f\"Weight of the furshings: {Wfurshings:.0f} lbs\")\n",
    "print(f\"Total miscellaneous weights: {Wflight_controls+Whydraulics+Wavionics+Welectrical+Wfurshings:.0f} lbs\")"
   ]
  },
  {
   "cell_type": "markdown",
   "id": "19456c63",
   "metadata": {},
   "source": [
    "## Summary\n",
    "\n",
    "Following table summarizes the weights computed in this section:\n",
    "\n",
    "<div style=\"width:40%; margin: auto;\">\n",
    "\n",
    "Component | Weight (lbs) \n",
    " --- | :----:\n",
    "Wing | 344\n",
    "Fuselage | 367\n",
    "Horizontal tail | 42\n",
    "Vertical tail | 39\n",
    "Main LG | 78\n",
    "Nose LG | 26\n",
    "Installed engine | 1559\n",
    "Fuel systems | 104\n",
    "Flight controls | 90 \n",
    "Hydraulics | 26\n",
    "Avionics | 83\n",
    "Electrical | 143\n",
    "Furshings | 213\n",
    "**Total Empty weight** | 3114\n",
    "\n",
    "</div>\n",
    "\n",
    "> __*NOTE*__: The value obtained here (3114 lbs) is close to what was obtained earlier in empty weight estimation (3094 lbs).\n",
    "\n",
    "This concludes the weights section. Next step is to compute the CG and plot CG travel diagram."
   ]
  }
 ],
 "metadata": {
  "kernelspec": {
   "display_name": "451",
   "language": "python",
   "name": "python3"
  },
  "language_info": {
   "codemirror_mode": {
    "name": "ipython",
    "version": 3
   },
   "file_extension": ".py",
   "mimetype": "text/x-python",
   "name": "python",
   "nbconvert_exporter": "python",
   "pygments_lexer": "ipython3",
   "version": "3.11.13"
  }
 },
 "nbformat": 4,
 "nbformat_minor": 5
}
