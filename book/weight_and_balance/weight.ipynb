{
 "cells": [
  {
   "cell_type": "markdown",
   "id": "ca3161fa",
   "metadata": {},
   "source": [
    "# Weights\n",
    "\n",
    "This section computes weight for major aircraft components\n",
    "\n",
    "## Required"
   ]
  },
  {
   "cell_type": "code",
   "execution_count": null,
   "id": "c10c65fa",
   "metadata": {},
   "outputs": [],
   "source": [
    "import math\n",
    "\n",
    "# Dynamic pressure\n",
    "rho = 0.00186850 # slugs/cu ft, at 8000 ft\n",
    "V = 337.562 # ft/s, 200 knots\n",
    "q = 0.5*rho*V**2 # lbs/sq ft dynamic pressure at cruise\n",
    "\n",
    "Wdg = 5354 # lbs, MTOW\n",
    "Wfw = 1060 # lbs, fuel weight\n",
    "avgas_density = 6.41 # lbs/gallon at -40 C\n",
    "\n",
    "Nz = 1.5 * 3.8 # limit load factor is set to 3.8"
   ]
  },
  {
   "cell_type": "markdown",
   "id": "be2d2be6",
   "metadata": {},
   "source": [
    "## Wing Weight"
   ]
  },
  {
   "cell_type": "code",
   "execution_count": 38,
   "id": "71fb759d",
   "metadata": {},
   "outputs": [
    {
     "name": "stdout",
     "output_type": "stream",
     "text": [
      "Weight of the wing: 358 lbs\n"
     ]
    }
   ],
   "source": [
    "Sw = 134 # sq ft\n",
    "A = 8\n",
    "taper_ratio = 0.4\n",
    "tc = 0.16 # average tc for the wing section between root and mac\n",
    "sweep = 0 # quarter chord sweep\n",
    "wing_span = 33 # ft\n",
    "\n",
    "Wwing = 0.036*Sw**0.758 * Wfw**0.0035 * (A/math.cos(sweep)**2)**0.6 * q**0.006 * taper_ratio**0.04 \\\n",
    "        * (100*tc/math.cos(sweep))**-0.3 * (Nz*Wdg)**0.49\n",
    "\n",
    "print(f\"Weight of the wing: {Wwing:.0f} lbs\")"
   ]
  },
  {
   "cell_type": "markdown",
   "id": "cc83fedb",
   "metadata": {},
   "source": [
    "## Fuselage Weight"
   ]
  },
  {
   "cell_type": "code",
   "execution_count": null,
   "id": "79acbe52",
   "metadata": {},
   "outputs": [
    {
     "name": "stdout",
     "output_type": "stream",
     "text": [
      "Weight of the wing: 372 lbs\n"
     ]
    }
   ],
   "source": [
    "Sf = 380.12 # sq ft, fuselage wetted from openvsp\n",
    "D = 1.5/12 # ft, structural depth\n",
    "L = 27 # ft, structural length without nose and tail cap\n",
    "Lt = 16 # ft, tail moment arm\n",
    "\n",
    "Wfuselage = 0.052 * Sf**1.086 * (Nz*Wdg)**0.177 * Lt**(-0.051) * (L/D)**(-0.072) * q**0.241\n",
    "\n",
    "print(f\"Weight of the fuselage: {Wfuselage:.0f} lbs\")"
   ]
  },
  {
   "cell_type": "markdown",
   "id": "f8316ee0",
   "metadata": {},
   "source": [
    "## Horizontal Tail Weight"
   ]
  },
  {
   "cell_type": "code",
   "execution_count": 32,
   "id": "9f7975a8",
   "metadata": {},
   "outputs": [
    {
     "name": "stdout",
     "output_type": "stream",
     "text": [
      "Weight of the HT: 43 lbs\n"
     ]
    }
   ],
   "source": [
    "Sht = 31 # sq ft\n",
    "sweep_ht = 10 # deg\n",
    "taper_ratio_ht = 0.741\n",
    "\n",
    "Wht = 0.016 * (Nz*Wdg)**0.414 * q**0.168 * Sht**0.896 * (100*tc/math.cos(sweep*math.pi/180))**-0.12 \\\n",
    "        * (A/math.cos(sweep_ht*math.pi/180)**2)**0.043 * taper_ratio_ht**-0.02\n",
    "\n",
    "print(f\"Weight of the HT: {Wht:.0f} lbs\")"
   ]
  },
  {
   "cell_type": "markdown",
   "id": "56505ab0",
   "metadata": {},
   "source": [
    "## Vertical Tail Weight"
   ]
  },
  {
   "cell_type": "code",
   "execution_count": null,
   "id": "adf1f5ce",
   "metadata": {},
   "outputs": [
    {
     "name": "stdout",
     "output_type": "stream",
     "text": [
      "Weight of the VT: 40 lbs\n"
     ]
    }
   ],
   "source": [
    "Svt = 17 # sq ft\n",
    "taper_ratio_vt = 0.55\n",
    "sweep_vt = 30 # deg\n",
    "tail_factor = 0 # 0.0 for conv tail\n",
    "\n",
    "Wvt = 0.073 * (1+0.2*tail_factor) * (Nz*Wdg)**0.376 * q**0.122 * Svt**0.873 \\\n",
    "        * (100*tc/math.cos(sweep_vt*math.pi/180))**-0.49 * (A/math.cos(sweep_vt*math.pi/180)**2)**0.357 \\\n",
    "        * taper_ratio_vt**0.039\n",
    "\n",
    "print(f\"Weight of the VT: {Wvt:.0f} lbs\")"
   ]
  },
  {
   "cell_type": "markdown",
   "id": "ed0cb94a",
   "metadata": {},
   "source": [
    "## Installed Engine\n",
    "\n",
    "Continental IO-550-N"
   ]
  },
  {
   "cell_type": "code",
   "execution_count": 34,
   "id": "6860c84b",
   "metadata": {},
   "outputs": [
    {
     "name": "stdout",
     "output_type": "stream",
     "text": [
      "Weight of the installed engine: 1559 lbs\n"
     ]
    }
   ],
   "source": [
    "Wen = 491 # lbs\n",
    "Nen = 2\n",
    "\n",
    "Winst_eng = 2.575 * Wen**0.922 * Nen\n",
    "\n",
    "print(f\"Weight of the installed engine: {Winst_eng:.0f} lbs\")"
   ]
  },
  {
   "cell_type": "markdown",
   "id": "efbc02e2",
   "metadata": {},
   "source": [
    "## Fuel Systems\n"
   ]
  },
  {
   "cell_type": "code",
   "execution_count": 37,
   "id": "b8ccebee",
   "metadata": {},
   "outputs": [
    {
     "name": "stdout",
     "output_type": "stream",
     "text": [
      "Weight of the fuel system: 104 lbs\n"
     ]
    }
   ],
   "source": [
    "Vt = Wfw / avgas_density\n",
    "Vi = Vt\n",
    "Nt = 2 # number of fuel tanks\n",
    "\n",
    "Wfuel_system = 2.49 * Vt**0.726 * (1 + Vi/Vt)**-0.363 * Nt**0.242 * Nen**0.157\n",
    "\n",
    "print(f\"Weight of the fuel system: {Wfuel_system:.0f} lbs\")"
   ]
  },
  {
   "cell_type": "markdown",
   "id": "95ad1c25",
   "metadata": {},
   "source": [
    "## Other Systems\n",
    "\n",
    "Weights for anti-icing, pressurization, and air conditioning is not included"
   ]
  },
  {
   "cell_type": "code",
   "execution_count": null,
   "id": "268ec055",
   "metadata": {},
   "outputs": [
    {
     "name": "stdout",
     "output_type": "stream",
     "text": [
      "Weight of the flight controls: 90 lbs\n",
      "Weight of the hydraulics: 26 lbs\n",
      "Weight of the avionics: 83 lbs\n",
      "Weight of the electrical: 181 lbs\n",
      "Weight of the furshings: 247 lbs\n"
     ]
    }
   ],
   "source": [
    "# flight controls\n",
    "Wflight_controls = 0.053 * L**1.536 * wing_span**0.371 * (Nz*Wdg*1e-4)**0.8\n",
    "\n",
    "Wflight_controls = 0.0168 * Wdg\n",
    "\n",
    "# hydraulics\n",
    "M = 0.3 # cruise mach number\n",
    "Kh = 0.05 # low subsonic with hydraulics for brakes and retracts only\n",
    "Whydraulics = Kh * Wdg**0.8 * M**0.5\n",
    "\n",
    "# avionics\n",
    "Wuav = 1000 # lbs, assumed from raymer\n",
    "Wavionics = 2.117 * Wuav**0.933\n",
    "\n",
    "Wavionics = 40 + 0.008 * Wdg # Roskam Part 5, 7.23\n",
    "\n",
    "# electrical\n",
    "Welectrical = 12.57 * (Wfuel_system + Wavionics)**0.51\n",
    "\n",
    "# Welectrical = 0.0268 * Wdg # Roskam Part 5, 7.13\n",
    "\n",
    "# furshings\n",
    "Wfurshings = 0.0582 * Wdg - 65\n",
    "\n",
    "# Wfurshings = 0.412 * 6**1.145 * Wdg**0.489\n",
    "\n",
    "print(f\"Weight of the flight controls: {Wflight_controls:.0f} lbs\")\n",
    "print(f\"Weight of the hydraulics: {Whydraulics:.0f} lbs\")\n",
    "print(f\"Weight of the avionics: {Wavionics:.0f} lbs\")\n",
    "print(f\"Weight of the electrical: {Welectrical:.0f} lbs\")\n",
    "print(f\"Weight of the furshings: {Wfurshings:.0f} lbs\")"
   ]
  }
 ],
 "metadata": {
  "kernelspec": {
   "display_name": "451",
   "language": "python",
   "name": "python3"
  },
  "language_info": {
   "codemirror_mode": {
    "name": "ipython",
    "version": 3
   },
   "file_extension": ".py",
   "mimetype": "text/x-python",
   "name": "python",
   "nbconvert_exporter": "python",
   "pygments_lexer": "ipython3",
   "version": "3.11.13"
  }
 },
 "nbformat": 4,
 "nbformat_minor": 5
}
