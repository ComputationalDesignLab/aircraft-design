{
 "cells": [
  {
   "cell_type": "markdown",
   "id": "83f71032",
   "metadata": {},
   "source": [
    "# Center of gravity\n",
    "\n",
    "This section demonstrate CG computation using the example airplane.\n",
    "\n",
    "Refer to lecture notes and Roskam Chapter Part Chapter 10 for more details.\n",
    "\n",
    "CG location for most of the components can be obtained from Table 10.2\n",
    "\n",
    "> __NOTE__: The origin must be decided such that all the x,y,z are positive for the current aircraft and have enough margin for future derivative airplane"
   ]
  },
  {
   "cell_type": "code",
   "execution_count": null,
   "id": "0bf0055e",
   "metadata": {},
   "outputs": [],
   "source": [
    "lf = 31 # ft\n",
    "\n",
    "# Fuselage\n",
    "xcg_fuselage = 0.39*lf\n",
    "\n"
   ]
  }
 ],
 "metadata": {
  "kernelspec": {
   "display_name": "451",
   "language": "python",
   "name": "python3"
  },
  "language_info": {
   "name": "python",
   "version": "3.11.13"
  }
 },
 "nbformat": 4,
 "nbformat_minor": 5
}
