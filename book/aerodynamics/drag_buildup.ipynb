{
 "cells": [
  {
   "cell_type": "markdown",
   "id": "86f8ef06",
   "metadata": {},
   "source": [
    "# Parasitic (Zero-lift) drag\n",
    "\n",
    "This section describes how to compute parasitic (zero-lift) drag coefficient ($C_{D_0}$) using drag buildup method and demonstrates it using the example airplane. The drag buildup method consists of computing zero-lift drag for each major component of the airplane and then summing it up to obtain total zero-lift drag for the entire airplane. The zero lift drag for any component can be divided into two parts: skin friction drag and form drag. The skin friction drag is calculated based on the equivalent flat plate theory. However, in conceptual design phase, it is difficult to get a good estimate of form drag. Hence, a factor (greater than 1) is multiplied to skin friction drag to account for form drag. Once parasitic drag for individual components are evaluated, they are added to obtain final value. Additionally, extra terms representing other sources of zero-lift drag can also be added. Refer to lecture notes, section 12.5 in Raymer, section 13.3 in Nicolai and Carichner, and section 15.4.6 in Gudmundsson for more details. Mathematically, the drag buildup method can be written as\n",
    "\n",
    "$$\n",
    "    C_{D_0} = \\frac{ \\sum\\limits_{i=1}^n C_{f_i} FF_i Q_i S_{wet_i} }{ S_{ref}} + C_{D_{misc}} + C_{D_{L\\&P}},\n",
    "$$\n",
    "\n",
    "where $C_f$ is the skin friction coefficient, $FF$ represents form factor to account for form drag, $Q_i$ denotes inteference factor, $S_{wet}$ is the wetted area, and $S_{ref}$ is the reference area. The subscript $i$ denotes $i^{th}$ component and $n$ is the total number of components. The $C_{D_{misc}}$ represents miscellaneous drag caused by flaps, fixed landing gear, fuselage aft upsweep angle, etc. The $C_{D_{L\\&P}}$ refers to the drag due to leakages and protuberances.\n",
    "\n",
    "For the example airplane, four components are considered in clean (cruise) configuration: wing, fuselage, horizontal tail, and vertical tail. Below subsections compute each term in the above equation for each component, and then computes final $C_{D_0}$ for the example airplane.\n",
    "\n",
    "## Skin friction coefficient\n",
    "\n",
    "The skin friction coefficient ($C_f$) is computed by assuming flow over a flat plate. The value of $C_f$ is dependent on the type of flow (laminar or turbulent), which in turn is dependent on the Reynolds number ($Re$), given by\n",
    "\n",
    "$$\n",
    "    Re = \\frac{\\rho Vl}{\\mu},\n",
    "$$\n",
    "\n",
    "where $\\rho$ is the density, $V$ is the freestream velocity, $l$ is the characteristic length (typically length of the component in the direction of flow), and $\\mu$ is the dynamic viscosity. Based on the $Re$, $C_f$ is computed as (Raymer Eq. 12.26 and 12.27):\n",
    "\n",
    "$$\n",
    "    C_f = \\frac{1.328}{\\sqrt{Re}} \\text{ (laminar)} \\quad \\text{and} \\quad C_f = \\frac{0.455}{(\\log_{10}Re)^{2.58}} \\text{ (turbulent)} \n",
    "$$\n",
    "\n",
    "Usually, the flow over airplane components is almost turbulent. Table 12.4 in Raymer provides some guidance for estimating what percent of wetted area might be experiencing laminar flow. For the example airplane, it is assumed that fuselage has 10% laminar flow, while all other components have fully turbulent flow. If the flow is mixed, then $C_f$ is computed as a weighted average of laminar and turbulent values.\n",
    "\n",
    "Note that skin roughness plays an important role in skin friction drag. As recommended by Raymer, a cutoff Re (equation 12.28 in Raymer) can be used to account for the increased turbulent flow. It was determined that the cutoff Re was much large than the actual Re for the example airplane, and hence, not used here. Additionally, $C_f$ for turbulent flow can be corrected for compressibility effects using Raymer equation 12.27, but it was not used since example airplane will be flying at low speeds.\n",
    "\n",
    "Below code block computes skin friction coefficient for each component:"
   ]
  },
  {
   "cell_type": "code",
   "execution_count": 19,
   "id": "03cba256",
   "metadata": {},
   "outputs": [
    {
     "name": "stdout",
     "output_type": "stream",
     "text": [
      "Cf fuselage: 0.002103\n",
      "Cf wing: 0.003147\n",
      "Cf ht: 0.003467\n",
      "Cf vt: 0.003225\n"
     ]
    }
   ],
   "source": [
    "import math\n",
    "\n",
    "def compute_re_cruise(l):\n",
    "    \"\"\"\n",
    "        Function to compute Re, l should be in m\n",
    "    \"\"\"\n",
    "\n",
    "    rho = 0.962870 # kg/m^3, 8000 ft\n",
    "    mu = 0.0000173188 # Pa.s, 8000 ft\n",
    "    V = 102.89 # m/s\n",
    "\n",
    "    return rho*V*l/mu\n",
    "\n",
    "def compute_cf_turbulent(re):\n",
    "    \"\"\"\n",
    "        Function to compute Cf for turbulent flow\n",
    "    \"\"\"\n",
    "\n",
    "    return 0.455/math.log10(re)**2.58\n",
    "\n",
    "def compute_cf_laminar(re):\n",
    "    \"\"\"\n",
    "        Function to compute Cf for laminar flow\n",
    "    \"\"\"\n",
    "\n",
    "    return 1.328/re**0.5\n",
    "\n",
    "# Compute Re\n",
    "fuselage_re = compute_re_cruise(31.6*0.3048) # 31.6 ft to m\n",
    "wing_re = compute_re_cruise(4.3*0.3048) # 4.3 ft to m\n",
    "ht_re = compute_re_cruise(2.4*0.3048) # 2.4 ft to m\n",
    "vt_re = compute_re_cruise(3.7*0.3048) # 3.7 ft to m\n",
    "\n",
    "# Compute fuselage Cf\n",
    "Cf_fuselage_laminar = compute_cf_laminar(fuselage_re)\n",
    "Cf_fuselage_turbulent = compute_cf_turbulent(fuselage_re)\n",
    "Cf_fuselage = Cf_fuselage_laminar*0.1 + Cf_fuselage_turbulent*0.9\n",
    "print(f\"Cf fuselage: {Cf_fuselage:.6f}\")\n",
    "\n",
    "# Compute wing Cf\n",
    "Cf_wing = compute_cf_turbulent(wing_re)\n",
    "print(f\"Cf wing: {Cf_wing:.6f}\")\n",
    "\n",
    "# Compute ht Cf\n",
    "Cf_ht = compute_cf_turbulent(ht_re)\n",
    "print(f\"Cf ht: {Cf_ht:.6f}\")\n",
    "\n",
    "# Compute vt Cf\n",
    "Cf_vt = compute_cf_turbulent(vt_re)\n",
    "print(f\"Cf vt: {Cf_vt:.6f}\")"
   ]
  },
  {
   "cell_type": "markdown",
   "id": "f352f331",
   "metadata": {},
   "source": [
    "## Form and Interference factors\n",
    "\n",
    "Next, form factor ($FF$) for each component is determined. The $FF$ for wings and tails is determined using:\n",
    "\n",
    "$$\n",
    "    FF = \\bigg[ 1 + \\frac{0.6}{(x/c)_m} (t/c) + 100 (t/c)^4 \\bigg],\n",
    "$$\n",
    "\n",
    "where $(x/c)_m$ is the location of maximum thickness as a fraction of chord, and $t/c$ is the thickness-to-chord ratio.\n",
    "\n",
    "For the example airplane, $(x/c)_m = 0.3$ for the wing and tails. The $t/c$ is set to 0.18 for the wing and 0.12 for the tails. The form factor computed using above equation can be adjusted for compressibility and sweep effects, but it was not done here since the example airplane will be flying at low speeds and has no sweep. The $FF$ for fuselage is determined using:\n",
    "\n",
    "$$\n",
    "    FF = \\bigg[ 0.9 + \\frac{5}{f^{1.5}} + \\frac{f}{400} \\bigg],\n",
    "$$\n",
    "\n",
    "where $f$ is the fuselage fineness ratio. The interference factor ($Q$) for fuselage and wing is set to 1.0, while it is set to 1.04 for both tails. Refer to section 12.5.4 and 12.5.5 in Raymer for more details about $FF$ and $Q$.\n",
    "\n",
    "Below code block computes $FF$ for wing, fuselage, horizontal tail, and vertical tail:"
   ]
  },
  {
   "cell_type": "code",
   "execution_count": 21,
   "id": "9f12f0f9",
   "metadata": {},
   "outputs": [
    {
     "name": "stdout",
     "output_type": "stream",
     "text": [
      "Fuselage form factor: 1.301388\n",
      "Wing form factor: 1.464976\n",
      "Tail form factor: 1.260736\n"
     ]
    }
   ],
   "source": [
    "compute_ff_fuselage = lambda f: 0.9 + 5/f**1.5 + f/400\n",
    "compute_ff_wing_tail = lambda xc, tc: 1 + 0.6*tc/xc + 100*tc**4\n",
    "\n",
    "ff_fuselage = compute_ff_fuselage(5.5)\n",
    "ff_wing = compute_ff_wing_tail(0.3, 0.18)\n",
    "ff_tail = compute_ff_wing_tail(0.3, 0.12)\n",
    "\n",
    "print(f\"Fuselage form factor: {ff_fuselage:.6f}\")\n",
    "print(f\"Wing form factor: {ff_wing:.6f}\")\n",
    "print(f\"Tail form factor: {ff_tail:.6f}\")"
   ]
  },
  {
   "cell_type": "markdown",
   "id": "c9bf6e9f",
   "metadata": {},
   "source": [
    "Raymer Section 12.5\n",
    "\n",
    "Components: Wing, Fuselage, HT, VT\n",
    "\n",
    "Laminar flow on Fuselage (10%), Wing (5%), Tails (0%)\n",
    "\n",
    "Reynolds number (+ adjusted for skin surface)\n",
    "\n",
    "Cf for laminar and turbulent\n",
    "\n",
    "Type of flow -> Re -> Cf -> FF -> Q -> S_wet -> \n",
    "\n",
    "Note about not including LG, Power plant (other than nacelle)\n",
    "\n",
    "Note about wetted are begin computed from OpenVSP\n",
    "\n",
    "Fuselage wetted area = 380 ft^2\n",
    "\n",
    "Wing wetted area = 224 ft^2 (+ 52 )\n",
    "\n",
    "VT wetted area = 39 ft^2\n",
    "\n",
    "HT wetted area = 60 fT^2"
   ]
  },
  {
   "cell_type": "markdown",
   "id": "09da4f5c",
   "metadata": {},
   "source": [
    "As outlined in Raymer, initial estimate for $C_{D_0}$ can be computed using\n",
    "\n",
    "$$\n",
    "    C_{D_0} = C_{f_e} \\frac{S_{wet}}{S_{ref}},\n",
    "$$\n",
    "\n",
    "where $C_{f_e}$ is the equivalent skin friction coefficient, $S_{wet}$ is total airplane wetted area, and $S_{ref}$ is the reference area. The $C_{f_e}$ is obtained from Table 12.3 and $S_{wet}$ can be easily obtained from OpenVSP model. The value obtained from this estimation can be used as a sanity check for the detailed drag buildup method."
   ]
  }
 ],
 "metadata": {
  "kernelspec": {
   "display_name": "451",
   "language": "python",
   "name": "python3"
  },
  "language_info": {
   "codemirror_mode": {
    "name": "ipython",
    "version": 3
   },
   "file_extension": ".py",
   "mimetype": "text/x-python",
   "name": "python",
   "nbconvert_exporter": "python",
   "pygments_lexer": "ipython3",
   "version": "3.11.13"
  }
 },
 "nbformat": 4,
 "nbformat_minor": 5
}
