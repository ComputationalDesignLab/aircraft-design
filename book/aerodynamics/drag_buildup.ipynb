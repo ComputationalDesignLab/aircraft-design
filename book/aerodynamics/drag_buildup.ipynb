{
 "cells": [
  {
   "cell_type": "markdown",
   "id": "86f8ef06",
   "metadata": {},
   "source": [
    "# Parasitic (Zero-lift) drag\n",
    "\n",
    "This section describes how to compute parasitic (zero-lift) drag ($C_{D_0}$) using drag buildup method and demonstrates it using the example airplane. The drag buildup method consists of computing zero-lift drag for each major component of the airplane and then summing it up to obtain total zero-lift drag for the entire airplane. The zero lift drag for any component can be divided into two parts: skin friction drag and parasitic (form) drag. The skin friction drag is calculated based on the equivalent flat plate theory. However, in conceptual design phase, it is difficult to get a good estimate of form drag. Hence, a factor (greater than 1) is multiplied to skin friction drag to account for form drag. Once parasitic drag for individual components are evaluated, they are added to obtain final value. Additionally, extra terms representing other sources of zero-lift drag can also be added. Note that component drag buildup method is only subsonic flights only. Refer to lecture notes, section 12.5 in Raymer, section 13.3 in Nicolai and Carichner, and section 15.4.6 in Gudmundsson for more details.\n",
    "\n",
    "Mathematically, the drag buildup method can be written as\n",
    "\n",
    "$$\n",
    "    C_{D_0} = \\frac{ \\sum\\limits_{i=1}^n C_{f_i} FF_i Q_i S_{wet_i} }{ S_{ref}} + C_{D_{misc}} + C_{D_{L\\&P}},\n",
    "$$\n",
    "\n",
    "where $C_f$ is the skin friction coefficient, $FF$ represents form factor to account for form drag, $Q_i$ denotes inteference factor, $S_{wet}$ is the wetted area, and $S_{ref}$ is the reference area. The subscript $i$ denotes $i^{th}$ component and $n$ is the total number of components. The $C_{D_{misc}}$ represents miscellaneous drag caused by flaps, fixed landing gear, fuselage aft upsweep angle, etc. The $C_{D_{L\\&P}}$ refers to the drag due to leakages and protuberances.\n",
    "\n",
    "As outlined in Raymer, initial estimate for $C_{D_0}$ can be computed using\n",
    "\n",
    "$$\n",
    "    C_{D_0} = C_{f_e} \\frac{S_{wet}}{S_{ref}},\n",
    "$$\n",
    "\n",
    "where $C_{f_e}$ is the equivalent skin friction coefficient, $S_{wet}$ is total airplane wetted area, and $S_{ref}$ is the reference area. The $C_{f_e}$ is obtained from Table 12.3 and $S_{wet}$ can be easily obtained from OpenVSP model. The value obtained from this estimation can be used as a sanity check for the detailed drag buildup method.\n",
    "\n",
    "Raymer Section 12.5\n",
    "\n",
    "Components: Wing, Fuselage, HT, VT\n",
    "\n",
    "Laminar flow on Fuselage (10%), Wing (5%), Tails (0%)\n",
    "\n",
    "Reynolds number (+ adjusted for skin surface)\n",
    "\n",
    "Cf for laminar and turbulent\n",
    "\n",
    "Type of flow -> Re -> Cf -> FF -> Q -> S_wet -> \n",
    "\n",
    "Note about not including LG, Power plant (other than nacelle)\n",
    "\n",
    "Note about wetted are begin computed from OpenVSP"
   ]
  }
 ],
 "metadata": {
  "kernelspec": {
   "display_name": "451",
   "language": "python",
   "name": "python3"
  },
  "language_info": {
   "name": "python",
   "version": "3.11.13"
  }
 },
 "nbformat": 4,
 "nbformat_minor": 5
}
