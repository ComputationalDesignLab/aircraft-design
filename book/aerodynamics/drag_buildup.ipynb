{
 "cells": [
  {
   "cell_type": "markdown",
   "id": "86f8ef06",
   "metadata": {},
   "source": [
    "# Parasitic (Zero-lift) drag\n",
    "\n",
    "This section describes how to compute parasitic (zero-lift) drag ($C_{D_0}$) using drag buildup method and demonstrates it using the example airplane. The drag buildup method consists of computing zero-lift drag for each major component of the airplane and then summing it up to obtain total zero-lift drag for the entire airplane. The zero lift drag for any component can be divided into two parts: skin friction drag and parasitic (form) drag. The skin friction drag is calculated based on the equivalent flat plate theory. However, in conceptual design phase, it is difficult to get a good estimate of form drag. Hence, a factor (greater than 1) is multiplied to skin friction drag to account for form drag. Once parasitic drag for individual components are evaluated, they are added to obtain final value. Additionally, extra terms representing other sources of zero-lift drag can also be added. Note that component drag buildup method is only subsonic flights only. Refer to lecture notes, section 12.5 in Raymer, section 13.3 in Nicolai and Carichner for more details.\n",
    "\n",
    "Mathematically, the drag buildup method can be written as\n",
    "\n",
    "$$\n",
    "    C_{D_0} = \\frac{ \\sum\\limits_{i=1}^n C_{f_i} FF_i Q_i S_{wet_i} }{ S_{ref}} + C_{D_{misc}} + C_{D_{L\\&P}},\n",
    "$$\n",
    "\n",
    "where $C_f$ is the skin friction coefficient, $FF$ represents form factor to account for form drag, $Q_i$ denotes inteference factor, $S_{wet}$ is the wetted area, and $S_{ref}$ is the reference area. The subscript $i$ denotes $i^{th}$ component and $n$ is the total number of components. The $C_{D_{misc}}$ represents miscellaneous drag caused by flaps, fixed landing gear, fuselage aft upsweep angle, etc. The $C_{D_{L\\&P}}$ refers to the drag due to leakages and protuberances.\n",
    "\n",
    "Raymer Section 12.5"
   ]
  }
 ],
 "metadata": {
  "kernelspec": {
   "display_name": "451",
   "language": "python",
   "name": "python3"
  },
  "language_info": {
   "name": "python",
   "version": "3.11.13"
  }
 },
 "nbformat": 4,
 "nbformat_minor": 5
}
