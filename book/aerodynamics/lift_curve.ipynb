{
 "cells": [
  {
   "cell_type": "markdown",
   "id": "8c139277",
   "metadata": {},
   "source": [
    "# Lift\n",
    "\n",
    "This section is about estimating the lift model for the airplane. At the conceptual phase, lift model can be written as \n",
    "\n",
    "$$\n",
    "    C_L = C_{L_\\alpha} (\\alpha - \\alpha_{L=0}),\n",
    "$$\n",
    "\n",
    "where $C_{L_\\alpha}$ is the lift curve slope and $\\alpha_{L=0}$ is the angle of attack where the lift is zero. The $\\alpha_{L=0}$ is zero for an uncambered wing while it non-zero for cambered wing.\n",
    "\n",
    "Based on Raymer, zero-lift angle of attack is equal to airfoil maximum camber divided by the chord. \n",
    "\n",
    "Otherwise, $\\alpha_{L=0}$ can also be set to zero for simplifying the analysis. \n",
    "\n",
    "Note that this model is only for linear region of the lift curve.\n",
    "\n",
    "The lift-curve slope is estimated using seim-empirical methods. \n",
    "\n",
    "In the conceptual phase, it is important to estimate $C_{L_\\alpha}$ which is later used for setting wing incidence angle, computing drag polar, and in longitudinal stability analysis.\n",
    "\n",
    "$$\n",
    "    C_{L_\\alpha} = \\frac{2\\pi A}{2 + \\sqrt{4 + \\dfrac{A^2\\beta^2}{\\eta^2} \\bigg( 1 + \\dfrac{\\tan^2(\\Lambda_{max,t/c})}{\\beta^2} \\bigg) }} \\bigg(\\frac{S_{exposed}}{S_{ref}}\\bigg) F,\n",
    "$$\n",
    "\n",
    "where A is the aspect ratio, $\\beta$ is the compressibility correction, given as \n",
    "\n",
    "$$\n",
    "    \\beta = \\sqrt{1 - M^2},\n",
    "$$\n",
    "\n",
    "where $M$ is the free-stream mach number. The $\\eta$ is the airfoil efficiency factor defined as\n",
    "\n",
    "$$\n",
    "    \\eta = \\frac{C_{l_\\alpha}}{2\\pi/\\beta}.\n",
    "$$\n",
    "\n",
    "The $\\Lambda_{max,t/c}$ is the sweep at the chord fraction corresponding to maximum thickness. The $S_{exposed}$ is defined as \n",
    "\n",
    "\n",
    "$F$ is the fuselage lift-factor given by\n",
    "\n",
    "$$\n",
    "    F = 1.07(1 + d/b)^2,\n",
    "$$\n",
    "\n",
    "where $d$ is the fuselage width and $b$ is the wing span\n",
    "\n",
    "> __*NOTE*__: The maximum value of the product of $F$ and $S_{exposed}/S_{ref}$ should not be more than 1"
   ]
  },
  {
   "cell_type": "code",
   "execution_count": null,
   "id": "d2c6b998",
   "metadata": {
    "vscode": {
     "languageId": "plaintext"
    }
   },
   "outputs": [],
   "source": []
  },
  {
   "cell_type": "markdown",
   "id": "fa6aaf0a",
   "metadata": {},
   "source": [
    "If desired, one should also use softwares like XFLR5 for computing $C_{L_\\alpha}$"
   ]
  }
 ],
 "metadata": {
  "language_info": {
   "name": "python"
  }
 },
 "nbformat": 4,
 "nbformat_minor": 5
}
