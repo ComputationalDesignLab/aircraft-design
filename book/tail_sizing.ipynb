{
 "cells": [
  {
   "cell_type": "markdown",
   "id": "d5a57747",
   "metadata": {},
   "source": [
    "# Tail Sizing\n",
    "\n",
    "This section describes tail sizing for the example airplane. In the early stages of design, the tail volume coefficient method is used for initial sizing of tail surfaces. The tail volume coefficient is defined as the tail effectiveness non-dimensionalized using the product of wing area and appropriate length scale. The effectives of a tail can be measured using the product of tail area and tail moment arm. The lenth scale is defined based on whether the coefficient is computed for horizontal or vertical tail. Mathematically, coefficients are defined as\n",
    "\n",
    "$$\n",
    "\\begin{aligned}\n",
    "    \\text{Horizontail tail volume coefficient:} \\quad & V_{h} = \\frac{S_h L_h}{S \\bar{c}} \\\\\n",
    "    \\text{Vertical tail volume coefficient:} \\quad & V_{v} = \\frac{S_v L_v}{S b}\n",
    "\\end{aligned}\n",
    "$$\n",
    "\n",
    "The $S_h$ and $S_v$ are the horizontal and vertical tail surface areas, respectively. The $L_h$ and $L_v$ are the horizontal and vertical tail moment arms, respectively. Note that these tail moment arm is usually measured as the distance between the mean aerodynamic center of the tail surface and the wing. The $S$ and $b$ are the area and span of the wing, while $\\bar{c}$ refers to the mean aerodynamic chord of the wing. Refer to lecture notes, Raymer section 6.5, Roskam part 2 chapter 8, and Nicolai & Carichner chapter 11 for more details. The value of the coefficients is estimated based on the historical data for a similar class of airplanes. For the example airplane, the $V_{h}$ and $V_{t}$ is set to 0.8 and 0.65, respectively.\n",
    "\n",
    "## Other planform variables\n",
    "\n",
    "As described in Raymer section 4.5.4, the tail aspect ratio and taper ratio demonstrate very less deviation across wide range of airplanes. Hence, the planform values for the tail surfaces are estimated using the historical data presented in Table 8.13 and 8.14 (Roskam Part 2). But these values should be refined further to meet the control and stability requirements of the airplane, if required.\n",
    "\n",
    "For the example airplane, the aspect ratio for the horizontal and vertical tail surface is set to 5.5 and 1.3, respectively. \n",
    "\n",
    "The taper ratio for the horizontal and vertical tail surface is set to 0.75 and 0.55, respectively.\n",
    "\n",
    "The quarter chord sweep for the horizontal and vertical tail is set to $10^{\\circ}$ and $30^{\\circ}$, respectively.\n",
    "\n",
    "Dihedral angle is $5^{circ}$ for horizontal tail\n",
    "\n",
    "Incidence - variable for triming\n",
    "\n",
    "NACA 0012 is used as the airfoil for the tail surfaces.\n",
    "\n",
    "Below code block computes the value of other tail surface planform variables based on the equations outlined in [wing planform section](wing_layout).\n",
    "\n"
   ]
  },
  {
   "cell_type": "code",
   "execution_count": null,
   "id": "86b4760c",
   "metadata": {
    "vscode": {
     "languageId": "plaintext"
    }
   },
   "outputs": [],
   "source": []
  },
  {
   "cell_type": "markdown",
   "id": "0253d82b",
   "metadata": {},
   "source": [
    "Following table summarizes the tail surface sizing for the example airplane:\n",
    "\n",
    "Parameter | Horizontal tail | Vertical tail | Source \n",
    "--- | :---: | :---: | :---:\n"
   ]
  }
 ],
 "metadata": {
  "language_info": {
   "name": "python"
  }
 },
 "nbformat": 4,
 "nbformat_minor": 5
}
