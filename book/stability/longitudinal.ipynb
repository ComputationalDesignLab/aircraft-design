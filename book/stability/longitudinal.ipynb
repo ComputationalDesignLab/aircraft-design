{
 "cells": [
  {
   "cell_type": "code",
   "execution_count": 22,
   "id": "e4f505ff",
   "metadata": {},
   "outputs": [
    {
     "name": "stdout",
     "output_type": "stream",
     "text": [
      "5095.649774463999\n",
      "3427.883715723476\n",
      "106.45601601625701\n"
     ]
    }
   ],
   "source": [
    "rho = 0.96287 # kg/m^3\n",
    "V = 102.88 # m/s\n",
    "q = 0.5*rho*V**2 # N/m^2\n",
    "\n",
    "print(q)\n",
    "\n",
    "rho = 0.00186850 # slugs/cu ft, at 8000 ft\n",
    "V = 337.562 # ft/s, 200 knots\n",
    "q = 0.5*rho*V**2 # slugs/sq ft dynamic pressure at cruise\n",
    "\n",
    "print(q*32.2)\n",
    "\n",
    "print(q)"
   ]
  },
  {
   "cell_type": "markdown",
   "id": "5b15f9e3",
   "metadata": {},
   "source": [
    "# Longitudinal Stability\n",
    "\n",
    "This section talks about how to access the longitudinal stability of an airplane.\n",
    "\n",
    "Section 16.3 ib Raymer Chapter 16\n",
    "\n",
    "$$\n",
    "    \\bar{X}_{np} = \\frac{ C_{L_\\alpha} \\bar{X}_{ac_w} - C_{M_{\\alpha_f}} + \\eta_h \\dfrac{S_h}{S_w} C_{L_{\\alpha_h}} \\dfrac{\\partial \\alpha_h}{\\partial \\alpha} \\bar{X}_{ac_h} + \\dfrac{F_{p_\\alpha}}{qS_w} \\dfrac{\\partial \\alpha_p}{\\partial \\alpha} \\bar{X}_p } { C_{L_\\alpha} + \\eta_h \\dfrac{S_h}{S_w} C_{L_{\\alpha_h}} \\dfrac{\\partial \\alpha_h}{\\partial \\alpha} + \\dfrac{F_{p_\\alpha}}{qS_w} \\dfrac{\\partial \\alpha_p}{\\partial \\alpha} }\n",
    "$$\n",
    "\n",
    "Let's break down this long equation.\n",
    "\n",
    "First term is a contribution due to wing pitching moment $C_{L_\\alpha}$ is lift curve slope for wing (known) and $\\bar{X}_{ac_w}$ is already known\n",
    "\n",
    "Each term in this equation should be adjusted for the flap deflection (when doing takeoff and landing trim analysis)\n",
    "\n"
   ]
  },
  {
   "cell_type": "markdown",
   "id": "81bcd6dd",
   "metadata": {},
   "source": [
    "## Tail\n",
    "\n",
    "Lift curve slope for tail is same as wing\n",
    "\n",
    "$$\n",
    "    C_{L_h} = C_{L_{\\alpha_h}} ( \\alpha + i_h - \\epsilon - \\alpha_{0_{L_h}} )\n",
    "$$\n",
    "\n",
    "nh = "
   ]
  },
  {
   "cell_type": "markdown",
   "id": "a9671daa",
   "metadata": {},
   "source": [
    "## Fuselage Pitching moment\n",
    "\n",
    "$C_{M_{\\alpha_f}}$ is the pitching moment contribution from fuselage, can be computed using Section 16.3.8 in Raymer\n",
    "\n",
    "Position of root quarter chord as percent of fuselage length = 0.37 (from position of components in CG section)"
   ]
  },
  {
   "cell_type": "code",
   "execution_count": null,
   "id": "797a20be",
   "metadata": {},
   "outputs": [
    {
     "name": "stdout",
     "output_type": "stream",
     "text": [
      "Fuselage pitching moment: 0.0192\n"
     ]
    }
   ],
   "source": [
    "Kfus = 0.014 # from figure 16.14\n",
    "Wf = 5.0 # ft\n",
    "Lf = 31.6 # ft\n",
    "mac = 4.3 # ft\n",
    "Sw = 134 # sq ft\n",
    "\n",
    "Cm_alpha_fuselage = Kfus * Wf**2 * Lf / mac / Sw\n",
    "\n",
    "print(f\"Fuselage pitching moment: {Cm_alpha_fuselage:.4f}\") # 1/deg"
   ]
  },
  {
   "cell_type": "markdown",
   "id": "9a26d682",
   "metadata": {},
   "source": [
    "## Thrust Effects\n",
    "\n",
    "Section 16.3.9 Raymer\n",
    "\n",
    "$$\n",
    "    F_{P_\\alpha} = qN_BA_p \\frac{\\partial C_{N_{blade}}}{\\partial \\alpha} f(T)\n",
    "$$\n",
    "\n",
    "$N_B$ = number of blades = 3 \n",
    "\n",
    "$A_P$ = area of the propeller disk \n",
    "\n"
   ]
  },
  {
   "cell_type": "code",
   "execution_count": null,
   "id": "f03e0262",
   "metadata": {},
   "outputs": [
    {
     "name": "stdout",
     "output_type": "stream",
     "text": [
      "1.616676245210728\n",
      "0.10259264220444914\n",
      "0.25154837597261187\n"
     ]
    }
   ],
   "source": [
    "import numpy as np\n",
    "\n",
    "rho = 0.00186850 # slugs/cu ft, at 8000 ft\n",
    "V = 337.562 # ft/s, 200 knots\n",
    "q = 0.5*rho*V**2 # lbs/sq ft dynamic pressure at cruise\n",
    "\n",
    "n = 0.8*2700/60 # rps\n",
    "D = 5.8 # ft\n",
    "NB = 3\n",
    "Ap = np.pi*D**2/4\n",
    "\n",
    "J = V/n/D\n",
    "\n",
    "print(J)\n",
    "\n",
    "dCNblade_dalpha = 0.055 # 1/rad, figure 16.15\n",
    "\n",
    "K = 1/np.pi/8/0.8\n",
    "\n",
    "CD0 = 0.03363\n",
    "\n",
    "W = 0.95*5374\n",
    "\n",
    "CL = W/0.5/rho/V**2\n",
    "\n",
    "CD = CD0 + K*CL**2\n",
    "\n",
    "D = 0.5*rho*V**2 * CD\n",
    "\n",
    "print(32.2*D/rho/V**2/Sw**2)\n",
    "\n",
    "fT = 1\n",
    "\n",
    "Fp_alpha = q*NB*Ap*dCNblade_dalpha*fT\n",
    "\n",
    "print(Fp_alpha*np.pi/180/32.2)\n",
    "\n",
    "print()"
   ]
  },
  {
   "cell_type": "code",
   "execution_count": null,
   "id": "1d4dae76",
   "metadata": {},
   "outputs": [],
   "source": [
    "de_da = 0.05\n",
    "\n",
    "dap_da = 1 + de_da"
   ]
  },
  {
   "cell_type": "markdown",
   "id": "8048a8d8",
   "metadata": {},
   "source": []
  }
 ],
 "metadata": {
  "kernelspec": {
   "display_name": "451",
   "language": "python",
   "name": "python3"
  },
  "language_info": {
   "codemirror_mode": {
    "name": "ipython",
    "version": 3
   },
   "file_extension": ".py",
   "mimetype": "text/x-python",
   "name": "python",
   "nbconvert_exporter": "python",
   "pygments_lexer": "ipython3",
   "version": "3.11.13"
  }
 },
 "nbformat": 4,
 "nbformat_minor": 5
}
