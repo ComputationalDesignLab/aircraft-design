{
 "cells": [
  {
   "cell_type": "markdown",
   "id": "5b15f9e3",
   "metadata": {},
   "source": [
    "\n",
    "Section 16.3 ib Raymer Chapter 16\n",
    "\n",
    "$$\n",
    "    \\bar{X}_{np} = \\frac{ C_{L_\\alpha} \\bar{X}_{ac_w} - C_{M_{\\alpha_f}} + \\eta_h \\dfrac{S_h}{S_w} C_{L_{\\alpha_h}} \\dfrac{\\partial \\alpha_h}{\\partial \\alpha} \\bar{X}_{ac_h} + \\dfrac{F_{p_\\alpha}}{qS_w} \\dfrac{\\partial \\alpha_p}{\\partial \\alpha} \\bar{X}_p } { C_{L_\\alpha} + \\eta_h \\dfrac{S_h}{S_w} C_{L_{\\alpha_h}} \\dfrac{\\partial \\alpha_h}{\\partial \\alpha} + \\dfrac{F_{p_\\alpha}}{qS_w} \\dfrac{\\partial \\alpha_p}{\\partial \\alpha} }\n",
    "$$\n",
    "\n",
    "Let's break down this long equation.\n",
    "\n",
    "First term is a contribution due to wing pitching moment $C_{L_\\alpha}$ is lift curve slope for wing (known) and \n",
    "\n",
    "Each term in this equation should be adjusted for the flap deflection (when doing takeoff and landing trim analysis)"
   ]
  }
 ],
 "metadata": {
  "language_info": {
   "name": "python"
  }
 },
 "nbformat": 4,
 "nbformat_minor": 5
}
