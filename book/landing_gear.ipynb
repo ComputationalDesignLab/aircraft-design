{
 "cells": [
  {
   "cell_type": "markdown",
   "id": "a1c8bf14",
   "metadata": {},
   "source": [
    "# Landing Gear Sizing\n",
    "\n",
    "This section describes initial sizing process for landing gear (LG) and demonstrates it on the example aircraft. Specifically, the goal of this section is to deterine the type of LG, and the number and size of tyres. Moreover, the LG should satisfies the tip-over criteria and provide enough ground clearance. Additionally, one should also explore the retraction mechanism for the LG, and how it will be stored - within wings, fuselage, or wing-fuselage intersection. \n",
    "\n",
    "The initial sizing for landing gear is usually performed by estimating the loads on nose and main LG, and accordingly sizing them. However, these loads can only be known precisely once the weight and balance studies are performed. Moreover, the location of the LG should satisfy tip-over and ground clearance criteria. Hence, the LG sizing is an iterative process which will involve some back and forth with weight and balance studies. For landing gear sizing, refer to Chapter 11 in Raymer and Chapter 9 in Roskam Part 2.\n",
    "\n",
    "As mentionted in the configuration section, the example airplane will be using tricycle LG, one of the most widely employed LG arrangements. The nose LG will be retracted into the nose, while the main LG will be retracted into the wings. To compute the load on the LG, following equations (from Raymer Chapter 11) will be used:\n",
    "\n",
    "$$\n",
    "\\begin{aligned}\n",
    "    \\text{Max static load on nose LG:} \\quad & W \\frac{l_m}{l_d} \\\\\n",
    "    \\text{Max static load on main LG:} \\quad & W \\frac{l_n}{l_d}\n",
    "\\end{aligned}\n",
    "$$\n",
    "\n",
    "Here, $W$ is the maximum weight of the airplane (MTOW) and $l_d$ is the distance between nose and main LG. The $l_n$ denotes the distance between the most aft CG location and nose LG, while $l_m$ refers to the distance between most forward CG and main LG. Since weight and balance studies are not performed, $l_n/l_d$ and $l_m/l_d$ are assumed to be 0.9 and 0.15, respectively. Once the loads are computed, LG can be sized. Below code block computes the loads on nose and main LG:"
   ]
  },
  {
   "cell_type": "code",
   "execution_count": 4,
   "id": "430440f5",
   "metadata": {},
   "outputs": [
    {
     "name": "stdout",
     "output_type": "stream",
     "text": [
      "Max load on nose LG: 803.1 lbs\n",
      "Max load on main LG: 4818.6 lbs\n"
     ]
    }
   ],
   "source": [
    "# Variables\n",
    "W = 5354 # lbs\n",
    "ln_by_ld = 0.90\n",
    "lm_by_ld = 0.15\n",
    "\n",
    "# Loads\n",
    "nose_lg_load = W * lm_by_ld # lb\n",
    "main_lg_load = W * ln_by_ld # lb\n",
    "\n",
    "print(f\"Max load on nose LG: {nose_lg_load} lbs\")\n",
    "print(f\"Max load on main LG: {main_lg_load} lbs\")"
   ]
  },
  {
   "cell_type": "markdown",
   "id": "89864429",
   "metadata": {},
   "source": [
    "For the example airplane, the nose LG will consists of one strut and one tire, while the main LG will contain two struts (one on each side) and one tire per struct. Hence, each main LG strut will carry 2543 lbs. Based on Table 11.2 in Raymer, tire size can be determined for the example airplane. Once weight and balance studies are performed and LG sizing is refined, one should use Tire manufacturer's catalog to determine the exact tire dimensions. Below table outlines the tire details:\n",
    "\n",
    "<div style=\"width:50%; margin: auto;\">\n",
    "\n",
    "Parameter | Nose LG tire | Main LG tire |\n",
    "--- | :--: | :---:\n",
    "Tire type | Type III | Type III\n",
    "Max applied load, lbs | 803.1 | 2409.3\n",
    "Max allowed load, lbs | 1200 | 3250\n",
    "Max tire width, in | 5.05 | 9.05\n",
    "Max tire diameter, in | 13.25 | 26.30\n",
    "Rolling radius, in | 5.2 | 10.4\n",
    "</div>\n",
    "\n",
    "Based on the similar aircraft and Section 11.4 in Raymer, the example airplane will have oleopenumatic system as shock-absorber. Four bar-linkage system will be used to retract the LG. The stroke length and dimensions of the strut, along with tip-over criteria and ground clearance, will be computed once weight and balance studies are completed. This concludes the LG sizing for now."
   ]
  }
 ],
 "metadata": {
  "kernelspec": {
   "display_name": "451",
   "language": "python",
   "name": "python3"
  },
  "language_info": {
   "codemirror_mode": {
    "name": "ipython",
    "version": 3
   },
   "file_extension": ".py",
   "mimetype": "text/x-python",
   "name": "python",
   "nbconvert_exporter": "python",
   "pygments_lexer": "ipython3",
   "version": "3.11.13"
  }
 },
 "nbformat": 4,
 "nbformat_minor": 5
}
