{
 "cells": [
  {
   "cell_type": "markdown",
   "id": "a1c8bf14",
   "metadata": {},
   "source": [
    "# Landing Gear Sizing\n",
    "\n",
    "This section describes initial sizing process for landing gear and applies demonstrates it on the example aircraft.\n",
    "\n",
    "Specifically, the goal of this section is to deterine the number of number, type, and size of tyres, \n",
    "\n",
    "Nose landing gear will be stowed in the nose\n",
    "\n",
    "The main LG will be retracted into the wing \n",
    "\n",
    "NOTE: The landing gear sizing is dependent on the most foward and aft CG locations, which in turn depends on the landing gear weight. So, it is an iterative process to size LG and do WB study.\n",
    "\n",
    "Chapter 9 Roskam Part 2\n",
    "\n",
    "Chapter 11 Raymer\n",
    "\n",
    "Assume 90-10 split for this sizing\n",
    "\n",
    "Tip-over and ground clearance criteria\n",
    "\n",
    "Use Tire manufacturer;s catalog to determine the exact tire dimensions\n",
    "\n",
    "\n"
   ]
  },
  {
   "cell_type": "code",
   "execution_count": null,
   "id": "4f033045",
   "metadata": {},
   "outputs": [
    {
     "name": "stdout",
     "output_type": "stream",
     "text": [
      "2409.3\n",
      "22.86951026743327\n",
      "8.118129905180167\n",
      "535.4\n",
      "4.8708779431081\n"
     ]
    }
   ],
   "source": [
    "max_weight = 5354 # lbs\n",
    "\n",
    "\n",
    "\n",
    "weight_on_lg = 0.90 * max_weight\n",
    "weight_on_ng = 0.10 * max_weight\n",
    "\n",
    "main_tire_dia = 1.51*(weight_on_lg/2)**0.349\n",
    "main_tire_width = 0.715*(weight_on_lg/2)**0.312\n",
    "\n",
    "nose_tire_dia = 0.6*main_tire_dia\n",
    "nose_tire_width = 0.6*main_tire_width\n",
    "\n",
    "print(weight_on_main_lg/2)\n",
    "print(main_tire_dia)\n",
    "print(main_tire_width)\n",
    "\n",
    "print(weight_on_ng)\n",
    "print(nose_tire_width)"
   ]
  }
 ],
 "metadata": {
  "kernelspec": {
   "display_name": "451",
   "language": "python",
   "name": "python3"
  },
  "language_info": {
   "codemirror_mode": {
    "name": "ipython",
    "version": 3
   },
   "file_extension": ".py",
   "mimetype": "text/x-python",
   "name": "python",
   "nbconvert_exporter": "python",
   "pygments_lexer": "ipython3",
   "version": "3.11.13"
  }
 },
 "nbformat": 4,
 "nbformat_minor": 5
}
