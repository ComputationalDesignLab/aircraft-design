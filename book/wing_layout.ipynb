{
 "cells": [
  {
   "cell_type": "markdown",
   "id": "dab8f6a4",
   "metadata": {},
   "source": [
    "# Wing Planform Layout\n",
    "\n",
    "This section estimates various wing planform layout variables for the example airplane.\n",
    "\n",
    "Low wing and T-Tail configuration with wing mounted engines with tricycle landing gear\n",
    "\n",
    "Airfoil selection needs to be done using some analysis\n",
    "\n",
    "Shape of the wing is determined by aspect ratio, sweep, and taper ratio which are determined based historical data for now based are later optimized after initial design.\n",
    "\n",
    "## Sweep\n",
    "\n",
    "Sweep is usually zero for a propeller driven airplane\n",
    "\n",
    "## Taper Ratio\n",
    "\n",
    "The taper ratio is defined as \n",
    "\n",
    "$$\n",
    "    \\lambda = \\frac{C_{tip}}{C_{root}}\n",
    "$$\n",
    "\n",
    "The root chord and tip chord can be computed as \n",
    "\n",
    "$$\n",
    "    C_{root} = \\frac{2S}{b(1 + \\lambda)} \\quad \\text{ and } \\quad C_{tip} = \\lambda C_{root}\n",
    "$$\n",
    "\n",
    "The mean aerodynamic chord (MAC) can be computed as\n",
    "\n",
    "$$\n",
    "    MAC = \\frac{2}{3}C_{root} \\frac{1 + \\lambda + \\lambda^2}{1 + \\lambda}\n",
    "$$\n",
    "\n",
    "The spanwise location of the MAC can be calculated using\n",
    "\n",
    "$$\n",
    "\n",
    "$$\n",
    "\n",
    "Dihedral is estimated based on historical data"
   ]
  }
 ],
 "metadata": {
  "language_info": {
   "name": "python"
  }
 },
 "nbformat": 4,
 "nbformat_minor": 5
}
