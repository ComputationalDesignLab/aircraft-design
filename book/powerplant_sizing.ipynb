{
 "cells": [
  {
   "cell_type": "markdown",
   "id": "488c488f",
   "metadata": {},
   "source": [
    "# Powerplant Sizing\n",
    "\n",
    "This section describes initial powerplant sizing for the example airplane. Specifically, engine selection and integration is described, along with propeller sizing.\n",
    "\n",
    "Based on the specification, the example airplane will employ twin piston engines\n",
    "\n",
    "Chapter 10 and 13 (13.5, 13.5, 13.7) - Raymer\n",
    "\n",
    "Chapter 14 and 17 (17.4) - Nicolai and Carichner\n",
    "\n",
    "Chapter 5 - Roskam Part 2 \n",
    "\n",
    "fuel efficiency and installed weight are primary driving factors\n",
    "\n",
    "Fig. 5.1 in Roskam Part 2 will tell you the type and number of engines\n",
    "\n",
    "Determine the max power required for the airplane - available from constraint analysis\n",
    "\n",
    "Table 5.4 can be used \n"
   ]
  }
 ],
 "metadata": {
  "kernelspec": {
   "display_name": "451",
   "language": "python",
   "name": "python3"
  },
  "language_info": {
   "name": "python",
   "version": "3.11.13"
  }
 },
 "nbformat": 4,
 "nbformat_minor": 5
}
